{
 "cells": [
  {
   "cell_type": "markdown",
   "metadata": {},
   "source": [
    "# Tensorflow examples\n",
    "\n",
    "## 1. Logistic regression"
   ]
  },
  {
   "cell_type": "code",
   "execution_count": 117,
   "metadata": {
    "collapsed": true
   },
   "outputs": [],
   "source": [
    "import numpy as np\n",
    "import pandas as pd\n",
    "import matplotlib.pyplot as plt\n",
    "import tensorflow as tf\n",
    "import missingno as mso\n",
    "%matplotlib inline"
   ]
  },
  {
   "cell_type": "code",
   "execution_count": 118,
   "metadata": {
    "collapsed": true
   },
   "outputs": [],
   "source": [
    "# Reset Tensorflow graphs\n",
    "tf.reset_default_graph()"
   ]
  },
  {
   "cell_type": "markdown",
   "metadata": {},
   "source": [
    "**Dataset**:"
   ]
  },
  {
   "cell_type": "code",
   "execution_count": 119,
   "metadata": {
    "scrolled": false
   },
   "outputs": [],
   "source": [
    "data = pd.read_csv('data.csv', index_col=0)\n",
    "data.head()\n",
    "\n",
    "#mso.matrix(X)\n",
    "#plt.show()\n",
    "\n",
    "X = data.drop('label', axis=1)\n",
    "Y = data['label']"
   ]
  },
  {
   "cell_type": "markdown",
   "metadata": {},
   "source": [
    "**Standardization of features**:"
   ]
  },
  {
   "cell_type": "code",
   "execution_count": 120,
   "metadata": {},
   "outputs": [
    {
     "data": {
      "text/html": [
       "<div>\n",
       "<style>\n",
       "    .dataframe thead tr:only-child th {\n",
       "        text-align: right;\n",
       "    }\n",
       "\n",
       "    .dataframe thead th {\n",
       "        text-align: left;\n",
       "    }\n",
       "\n",
       "    .dataframe tbody tr th {\n",
       "        vertical-align: top;\n",
       "    }\n",
       "</style>\n",
       "<table border=\"1\" class=\"dataframe\">\n",
       "  <thead>\n",
       "    <tr style=\"text-align: right;\">\n",
       "      <th></th>\n",
       "      <th>f1</th>\n",
       "      <th>f2</th>\n",
       "      <th>f3</th>\n",
       "      <th>f4</th>\n",
       "      <th>f5</th>\n",
       "      <th>f6</th>\n",
       "      <th>f7</th>\n",
       "      <th>f8</th>\n",
       "      <th>f9</th>\n",
       "      <th>f10</th>\n",
       "      <th>...</th>\n",
       "      <th>f55</th>\n",
       "      <th>f56</th>\n",
       "      <th>f57</th>\n",
       "      <th>f58</th>\n",
       "      <th>f59</th>\n",
       "      <th>f60</th>\n",
       "      <th>f61</th>\n",
       "      <th>f62</th>\n",
       "      <th>f63</th>\n",
       "      <th>f64</th>\n",
       "    </tr>\n",
       "  </thead>\n",
       "  <tbody>\n",
       "    <tr>\n",
       "      <th>0</th>\n",
       "      <td>-0.345821</td>\n",
       "      <td>0.887681</td>\n",
       "      <td>-0.660175</td>\n",
       "      <td>-0.397176</td>\n",
       "      <td>-1.104933</td>\n",
       "      <td>0.000000</td>\n",
       "      <td>-0.334331</td>\n",
       "      <td>-0.400739</td>\n",
       "      <td>-0.319530</td>\n",
       "      <td>-0.841382</td>\n",
       "      <td>...</td>\n",
       "      <td>-0.441176</td>\n",
       "      <td>-0.183836</td>\n",
       "      <td>-0.344380</td>\n",
       "      <td>-0.082795</td>\n",
       "      <td>5.800039</td>\n",
       "      <td>-0.390605</td>\n",
       "      <td>0.059432</td>\n",
       "      <td>1.625507</td>\n",
       "      <td>-0.581995</td>\n",
       "      <td>-0.371594</td>\n",
       "    </tr>\n",
       "    <tr>\n",
       "      <th>1</th>\n",
       "      <td>0.706456</td>\n",
       "      <td>0.545661</td>\n",
       "      <td>0.074550</td>\n",
       "      <td>-0.113452</td>\n",
       "      <td>-1.212006</td>\n",
       "      <td>0.000000</td>\n",
       "      <td>0.557345</td>\n",
       "      <td>-0.292296</td>\n",
       "      <td>0.532584</td>\n",
       "      <td>-0.496989</td>\n",
       "      <td>...</td>\n",
       "      <td>-0.132985</td>\n",
       "      <td>1.762131</td>\n",
       "      <td>1.189227</td>\n",
       "      <td>-1.859282</td>\n",
       "      <td>1.333261</td>\n",
       "      <td>-0.515367</td>\n",
       "      <td>1.007042</td>\n",
       "      <td>0.689136</td>\n",
       "      <td>-0.386496</td>\n",
       "      <td>0.728880</td>\n",
       "    </tr>\n",
       "    <tr>\n",
       "      <th>2</th>\n",
       "      <td>1.999788</td>\n",
       "      <td>1.077786</td>\n",
       "      <td>-0.307964</td>\n",
       "      <td>-0.285190</td>\n",
       "      <td>0.074683</td>\n",
       "      <td>-6.970828</td>\n",
       "      <td>1.696353</td>\n",
       "      <td>-0.446301</td>\n",
       "      <td>2.078102</td>\n",
       "      <td>-1.032616</td>\n",
       "      <td>...</td>\n",
       "      <td>-0.211032</td>\n",
       "      <td>0.298691</td>\n",
       "      <td>11.103705</td>\n",
       "      <td>-0.351665</td>\n",
       "      <td>-0.031617</td>\n",
       "      <td>0.000000</td>\n",
       "      <td>6.636748</td>\n",
       "      <td>0.409183</td>\n",
       "      <td>-0.276270</td>\n",
       "      <td>46.279400</td>\n",
       "    </tr>\n",
       "    <tr>\n",
       "      <th>3</th>\n",
       "      <td>-1.566659</td>\n",
       "      <td>-0.978427</td>\n",
       "      <td>1.246802</td>\n",
       "      <td>6.710924</td>\n",
       "      <td>1.021185</td>\n",
       "      <td>8.135263</td>\n",
       "      <td>-1.444535</td>\n",
       "      <td>7.150731</td>\n",
       "      <td>0.465426</td>\n",
       "      <td>1.037126</td>\n",
       "      <td>...</td>\n",
       "      <td>-0.143239</td>\n",
       "      <td>-1.353773</td>\n",
       "      <td>-1.019099</td>\n",
       "      <td>1.066443</td>\n",
       "      <td>-0.031617</td>\n",
       "      <td>0.114174</td>\n",
       "      <td>0.860983</td>\n",
       "      <td>-0.802267</td>\n",
       "      <td>4.637867</td>\n",
       "      <td>0.353713</td>\n",
       "    </tr>\n",
       "    <tr>\n",
       "      <th>4</th>\n",
       "      <td>-0.103130</td>\n",
       "      <td>-0.089700</td>\n",
       "      <td>0.871831</td>\n",
       "      <td>0.369691</td>\n",
       "      <td>0.349257</td>\n",
       "      <td>0.000000</td>\n",
       "      <td>0.054180</td>\n",
       "      <td>0.102414</td>\n",
       "      <td>3.824296</td>\n",
       "      <td>0.142554</td>\n",
       "      <td>...</td>\n",
       "      <td>-0.128184</td>\n",
       "      <td>-0.256477</td>\n",
       "      <td>-0.201698</td>\n",
       "      <td>0.300112</td>\n",
       "      <td>-0.031617</td>\n",
       "      <td>0.000000</td>\n",
       "      <td>0.551877</td>\n",
       "      <td>-0.545997</td>\n",
       "      <td>1.215165</td>\n",
       "      <td>19.924162</td>\n",
       "    </tr>\n",
       "  </tbody>\n",
       "</table>\n",
       "<p>5 rows × 62 columns</p>\n",
       "</div>"
      ],
      "text/plain": [
       "         f1        f2        f3        f4        f5        f6        f7  \\\n",
       "0 -0.345821  0.887681 -0.660175 -0.397176 -1.104933  0.000000 -0.334331   \n",
       "1  0.706456  0.545661  0.074550 -0.113452 -1.212006  0.000000  0.557345   \n",
       "2  1.999788  1.077786 -0.307964 -0.285190  0.074683 -6.970828  1.696353   \n",
       "3 -1.566659 -0.978427  1.246802  6.710924  1.021185  8.135263 -1.444535   \n",
       "4 -0.103130 -0.089700  0.871831  0.369691  0.349257  0.000000  0.054180   \n",
       "\n",
       "         f8        f9       f10    ...           f55       f56        f57  \\\n",
       "0 -0.400739 -0.319530 -0.841382    ...     -0.441176 -0.183836  -0.344380   \n",
       "1 -0.292296  0.532584 -0.496989    ...     -0.132985  1.762131   1.189227   \n",
       "2 -0.446301  2.078102 -1.032616    ...     -0.211032  0.298691  11.103705   \n",
       "3  7.150731  0.465426  1.037126    ...     -0.143239 -1.353773  -1.019099   \n",
       "4  0.102414  3.824296  0.142554    ...     -0.128184 -0.256477  -0.201698   \n",
       "\n",
       "        f58       f59       f60       f61       f62       f63        f64  \n",
       "0 -0.082795  5.800039 -0.390605  0.059432  1.625507 -0.581995  -0.371594  \n",
       "1 -1.859282  1.333261 -0.515367  1.007042  0.689136 -0.386496   0.728880  \n",
       "2 -0.351665 -0.031617  0.000000  6.636748  0.409183 -0.276270  46.279400  \n",
       "3  1.066443 -0.031617  0.114174  0.860983 -0.802267  4.637867   0.353713  \n",
       "4  0.300112 -0.031617  0.000000  0.551877 -0.545997  1.215165  19.924162  \n",
       "\n",
       "[5 rows x 62 columns]"
      ]
     },
     "execution_count": 120,
     "metadata": {},
     "output_type": "execute_result"
    }
   ],
   "source": [
    "from sklearn.preprocessing import RobustScaler\n",
    "X_std = RobustScaler().fit_transform(X)\n",
    "X_std = pd.DataFrame(X_std, columns=X.columns)\n",
    "X_std.head()"
   ]
  },
  {
   "cell_type": "markdown",
   "metadata": {},
   "source": [
    "**Train/Validation/Test split**"
   ]
  },
  {
   "cell_type": "code",
   "execution_count": 121,
   "metadata": {},
   "outputs": [],
   "source": [
    "from sklearn.model_selection import train_test_split\n",
    "\n",
    "X_train, X_test, Y_train, Y_test = train_test_split(X_std, Y.values, test_size=0.3)"
   ]
  },
  {
   "cell_type": "markdown",
   "metadata": {},
   "source": [
    "**Build the model framework**"
   ]
  },
  {
   "cell_type": "code",
   "execution_count": 133,
   "metadata": {},
   "outputs": [],
   "source": [
    "# Model data\n",
    "n = X.shape[1]\n",
    "\n",
    "# Hyperparameters\n",
    "alpha = 0.01\n",
    "num_epochs = 100\n",
    "batch_size = 100\n",
    "display_step = 10\n",
    "\n",
    "# Tensorflow parameters\n",
    "with tf.name_scope('Placeholder'):\n",
    "    X = tf.placeholder(tf.float32, [None, n])\n",
    "    Y = tf.placeholder(tf.float32, [None, 1])\n",
    "\n",
    "with tf.name_scope('Variables'):\n",
    "    W = tf.Variable(tf.zeros([n, 1]))\n",
    "    b = tf.Variable(tf.zeros([1]))\n",
    "\n",
    "with tf.name_scope('Model'):\n",
    "    Y_ = tf.nn.softmax(tf.add(tf.matmul(X, W), b))\n",
    "\n",
    "with tf.name_scope('Cost_function'):\n",
    "    cost = tf.nn.softmax_cross_entropy_with_logits(labels=Y, logits=Y_)\n",
    "\n",
    "with tf.name_scope('Gradient_descent'):\n",
    "    training_step = tf.train.AdamOptimizer(learning_rate=alpha).minimize(cost)"
   ]
  },
  {
   "cell_type": "markdown",
   "metadata": {},
   "source": [
    "**Model training**"
   ]
  },
  {
   "cell_type": "code",
   "execution_count": 135,
   "metadata": {
    "scrolled": false
   },
   "outputs": [],
   "source": [
    "from sklearn.metrics import roc_auc_score\n",
    "\n",
    "#tf.reset_default_graph()\n",
    "#sess.run(tf.global_variables_initializer())\n",
    "\n",
    "costs_train = []\n",
    "aucs_train = []\n",
    "\n",
    "costs_test = []\n",
    "aucs_test = []\n",
    "\n",
    "with tf.name_scope('Session'):\n",
    "    with tf.Session() as sess:\n",
    "        \n",
    "        init = tf.global_variables_initializer()\n",
    "        sess.run(init)\n",
    "        \n",
    "        for epoch in range(num_epochs):\n",
    "                \n",
    "                # Gradient descent\n",
    "                sess.run(training_step, feed_dict={X: X_train,\n",
    "                                                   Y: Y_train})\n",
    "                \n",
    "                # Learning curves\n",
    "                costs_train.append(sess.run(cost, {X: X_train,\n",
    "                                                   Y: Y_train}))\n",
    "                #costs_test.append(sess.run(cost, {X: X_test,\n",
    "                #                                  Y: Y_test}))\n",
    "                \n",
    "                # Metrics\n",
    "                #train_auc = roc_auc_score(Y_train, sess.run())\n",
    "                #test_auc = roc_auc_score(Y_test, )\n",
    "                \n",
    "                #aucs_train.append(train_auc)\n",
    "                #aucs_test.append(test_auc)"
   ]
  },
  {
   "cell_type": "code",
   "execution_count": null,
   "metadata": {
    "scrolled": false
   },
   "outputs": [],
   "source": []
  },
  {
   "cell_type": "code",
   "execution_count": null,
   "metadata": {
    "collapsed": true
   },
   "outputs": [],
   "source": []
  },
  {
   "cell_type": "markdown",
   "metadata": {},
   "source": [
    "## 2. Feed-forward neural networks"
   ]
  },
  {
   "cell_type": "code",
   "execution_count": null,
   "metadata": {
    "collapsed": true
   },
   "outputs": [],
   "source": []
  }
 ],
 "metadata": {
  "kernelspec": {
   "display_name": "Python 3",
   "language": "python",
   "name": "python3"
  },
  "language_info": {
   "codemirror_mode": {
    "name": "ipython",
    "version": 3
   },
   "file_extension": ".py",
   "mimetype": "text/x-python",
   "name": "python",
   "nbconvert_exporter": "python",
   "pygments_lexer": "ipython3",
   "version": "3.6.3"
  }
 },
 "nbformat": 4,
 "nbformat_minor": 2
}
