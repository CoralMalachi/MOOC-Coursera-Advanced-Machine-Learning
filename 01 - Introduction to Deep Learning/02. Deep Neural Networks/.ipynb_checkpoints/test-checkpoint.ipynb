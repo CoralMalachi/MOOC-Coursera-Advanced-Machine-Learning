{
 "cells": [
  {
   "cell_type": "markdown",
   "metadata": {},
   "source": [
    "# Peer-graded Assignment: my1stNN\n",
    "\n",
    "***\n",
    "\n",
    "## 1. Dataset"
   ]
  },
  {
   "cell_type": "code",
   "execution_count": 7,
   "metadata": {},
   "outputs": [
    {
     "name": "stdout",
     "output_type": "stream",
     "text": [
      "(50000, 28, 28) (50000,)\n"
     ]
    },
    {
     "data": {
      "image/png": "[encoded data removed]",
      "text/plain": [
       "<matplotlib.figure.Figure at 0x2b03bc87320>"
      ]
     },
     "metadata": {},
     "output_type": "display_data"
    }
   ],
   "source": [
    "import keras\n",
    "\n",
    "def load_dataset(flatten=False):\n",
    "    (X_train, y_train), (X_test, y_test) = keras.datasets.mnist.load_data()\n",
    "\n",
    "    # normalize x\n",
    "    X_train = X_train.astype(float) / 255.\n",
    "    X_test = X_test.astype(float) / 255.\n",
    "\n",
    "    # we reserve the last 10000 training examples for validation\n",
    "    X_train, X_val = X_train[:-10000], X_train[-10000:]\n",
    "    y_train, y_val = y_train[:-10000], y_train[-10000:]\n",
    "\n",
    "    if flatten:\n",
    "        X_train = X_train.reshape([X_train.shape[0], -1])\n",
    "        X_val = X_val.reshape([X_val.shape[0], -1])\n",
    "        X_test = X_test.reshape([X_test.shape[0], -1])\n",
    "\n",
    "    return X_train, y_train, X_val, y_val, X_test, y_test\n",
    "\n",
    "X_train, y_train, X_val, y_val, X_test, y_test = load_dataset()\n",
    "print(X_train.shape, y_train.shape)\n",
    "import matplotlib.pyplot as plt\n",
    "%matplotlib inline\n",
    "plt.imshow(X_train[0], cmap=\"Greys\");"
   ]
  },
  {
   "cell_type": "markdown",
   "metadata": {},
   "source": [
    "Reshape dataset for learning problem:"
   ]
  },
  {
   "cell_type": "code",
   "execution_count": 8,
   "metadata": {
    "collapsed": true
   },
   "outputs": [],
   "source": [
    "import numpy as np\n",
    "\n",
    "# Features matrix X\n",
    "num_pixels = X_train.shape[1] * X_train.shape[2]   # 784\n",
    "X_train = X_train.reshape(X_train.shape[0], num_pixels).astype('float32')\n",
    "X_test = X_test.reshape(X_test.shape[0], num_pixels).astype('float32')\n",
    "\n",
    "# Output vector y\n",
    "y_train = np.eye(10)[y_train]   # 10\n",
    "y_test = np.eye(10)[y_test]"
   ]
  },
  {
   "cell_type": "markdown",
   "metadata": {
    "collapsed": true
   },
   "source": [
    "## 2. Building a 3-layer neural network model"
   ]
  },
  {
   "cell_type": "code",
   "execution_count": 19,
   "metadata": {
    "collapsed": true
   },
   "outputs": [],
   "source": [
    "import tensorflow as tf\n",
    "tf.reset_default_graph()\n",
    "\n",
    "### Parameters\n",
    "#alpha = 0.005\n",
    "#nu = 0.001\n",
    "training_epochs = 25\n",
    "batch_size = 5000\n",
    "total_batch = 50000\n",
    "\n",
    "### Layers\n",
    "hidden_layers_1 = 200\n",
    "hidden_layers_2 = 200\n",
    "features = 784        # 28x28 images (flattened here)\n",
    "n_classes = 10        # Classes: 0-9 handwritten digits\n",
    "\n",
    "### Model variables\n",
    "X = tf.placeholder(tf.float32, shape=[None, features])\n",
    "Y = tf.placeholder(tf.float32, shape=[None, n_classes])\n",
    "keep_prob = tf.placeholder(tf.float32)\n",
    "\n",
    "### Placeholder variables\n",
    "W1 = tf.get_variable(\"W1\", [features, hidden_layers_1], initializer=tf.contrib.layers.xavier_initializer())\n",
    "W2 = tf.get_variable(\"W2\", [hidden_layers_1, hidden_layers_2], initializer=tf.contrib.layers.xavier_initializer())\n",
    "W3 = tf.get_variable(\"W3\", [hidden_layers_2, n_classes], initializer=tf.contrib.layers.xavier_initializer())\n",
    "\n",
    "b1 = tf.get_variable(\"b1\", [hidden_layers_1], initializer=tf.zeros_initializer())\n",
    "b2 = tf.get_variable(\"b2\", [hidden_layers_2], initializer=tf.zeros_initializer())\n",
    "b3 = tf.get_variable(\"b3\", [n_classes], initializer=tf.zeros_initializer())\n",
    "\n",
    "### Hidden layer 1\n",
    "Z1 = tf.matmul(X, W1) + b1\n",
    "A1 = tf.nn.relu(Z1)\n",
    "A1 = tf.nn.dropout(A1, keep_prob)\n",
    "\n",
    "### Hidden layer 2\n",
    "Z2 = tf.matmul(A1, W2) + b2\n",
    "A2 = tf.nn.relu(Z2)\n",
    "A2 = tf.nn.dropout(A2, keep_prob)\n",
    "\n",
    "### Output later\n",
    "Z3 = tf.matmul(A2, W3) + b3\n",
    "A3 = tf.nn.sigmoid(Z3)\n",
    "\n",
    "### Cost function\n",
    "cost = tf.reduce_mean(tf.nn.softmax_cross_entropy_with_logits(logits=A3, labels=Y))\n",
    "\n",
    "### Loss function using L2 Regularization\n",
    "#beta = 0.0001\n",
    "#regularizers = tf.nn.l2_loss(W1) + tf.nn.l2_loss(W2) + tf.nn.l2_loss(W3)\n",
    "#cost = tf.reduce_mean(cost + beta * regularizers)\n",
    "\n",
    "### Decay the learning rate\n",
    "global_step = tf.Variable(0, trainable=False)\n",
    "learning_rate_0 = 0.01\n",
    "alpha = tf.train.exponential_decay(learning_rate_0, global_step, 100000, 0.94, staircase=True)\n",
    "\n",
    "### Training step\n",
    "training_step = tf.train.AdamOptimizer(learning_rate=alpha).minimize(cost)"
   ]
  },
  {
   "cell_type": "markdown",
   "metadata": {},
   "source": [
    "## 3. Training a neural network"
   ]
  },
  {
   "cell_type": "code",
   "execution_count": 14,
   "metadata": {},
   "outputs": [
    {
     "name": "stdout",
     "output_type": "stream",
     "text": [
      "Cost (10 epochs): 1.48487\n",
      "Train accuracy (10 epochs): 0.97016\n",
      "Test accuracy (10 epochs): 0.9621\n",
      "\n",
      "Cost (20 epochs): 1.4736\n",
      "Train accuracy (20 epochs): 0.98514\n",
      "Test accuracy (20 epochs): 0.9732\n",
      "\n"
     ]
    },
    {
     "data": {
      "image/png": "[encoded data removed]",
      "text/plain": [
       "<matplotlib.figure.Figure at 0x2b003f6b7f0>"
      ]
     },
     "metadata": {},
     "output_type": "display_data"
    },
    {
     "name": "stdout",
     "output_type": "stream",
     "text": [
      "Train accuracy: 0.98886\n",
      "Test accuracy: 0.9763\n"
     ]
    },
    {
     "data": {
      "image/png": "[encoded data removed]",
      "text/plain": [
       "<matplotlib.figure.Figure at 0x2b003f88668>"
      ]
     },
     "metadata": {},
     "output_type": "display_data"
    },
    {
     "name": "stdout",
     "output_type": "stream",
     "text": [
      "Wall time: 1min 34s\n"
     ]
    }
   ],
   "source": [
    "%%time\n",
    "# Initializing the variables\n",
    "init = tf.global_variables_initializer()\n",
    "\n",
    "with tf.Session() as sess:\n",
    "    sess.run(init)\n",
    "    \n",
    "    cost_train = []\n",
    "    cost_test = []\n",
    "    \n",
    "    acc_train = []\n",
    "    acc_test = []\n",
    "    \n",
    "    for epoch in range(training_epochs):\n",
    "        \n",
    "        # Batch gradient descent\n",
    "        for i in range(0, total_batch, batch_size):\n",
    "            x_batch = X_train[i:i+batch_size]\n",
    "            y_batch = y_train[i:i+batch_size]\n",
    "            sess.run(training_step, feed_dict={X: x_batch, Y: y_batch, keep_prob : 0.65})\n",
    "        \n",
    "        # Learning cost\n",
    "        cost_train.append(sess.run(cost, {X: X_train, Y: y_train, keep_prob : 1.0}))\n",
    "        cost_test.append(sess.run(cost, {X: X_test, Y: y_test, keep_prob : 1.0}))\n",
    "        \n",
    "        # Accuracy\n",
    "        predict = tf.argmax(Z3, 1)\n",
    "        correct_predict = tf.equal(predict, tf.argmax(Y,1))\n",
    "        accuracy = tf.reduce_mean(tf.cast(correct_predict, \"float\"))\n",
    "        train_accuracy = accuracy.eval({X: X_train, Y: y_train, keep_prob : 1.0})\n",
    "        test_accuracy = accuracy.eval({X: X_test, Y: y_test, keep_prob : 1.0})\n",
    "        \n",
    "        acc_train.append(train_accuracy)\n",
    "        acc_test.append(test_accuracy)\n",
    "        \n",
    "        # Print progress\n",
    "        if epoch%10 == 9:\n",
    "            print(\"Cost (\" + str(epoch+1) + \" epochs): \" + str(cost_train[-1]))\n",
    "            print(\"Train accuracy (\" + str(epoch+1) + \" epochs): \" + str(train_accuracy))\n",
    "            print(\"Test accuracy (\" + str(epoch+1) + \" epochs): \" + str(test_accuracy))\n",
    "            print(\"\")\n",
    "    \n",
    "    # Cost history of training our neural network\n",
    "    plt.figure(figsize=(7,5))\n",
    "    plt.plot(range(len(cost_train)), cost_train, color=\"blue\", lw=1.5, label=\"Training set\")\n",
    "    plt.plot(range(len(cost_test)), cost_test, color=\"red\", lw=1.5, label=\"Testing set\")\n",
    "    plt.xlabel(\"Training epochs\")\n",
    "    plt.ylabel(\"Cost\")\n",
    "    plt.grid(True)\n",
    "    plt.legend(loc=\"best\")\n",
    "    plt.title(\"Cost of training our 3-layer neural network\")\n",
    "    plt.show()\n",
    "\n",
    "    # Final accuracy of our neural network\n",
    "    predict = tf.argmax(Z3, 1)\n",
    "    correct_predict = tf.equal(predict, tf.argmax(Y,1))\n",
    "    accuracy = tf.reduce_mean(tf.cast(correct_predict, \"float\"))\n",
    "    print(\"Train accuracy:\", accuracy.eval({X: X_train, Y: y_train, keep_prob : 1.0}))\n",
    "    print(\"Test accuracy:\", accuracy.eval({X: X_test, Y: y_test, keep_prob : 1.0}))\n",
    "    \n",
    "    plt.figure(figsize=(7,5))\n",
    "    plt.plot(range(len(acc_train)), acc_train, color=\"blue\", lw=1.5, label=\"Training set\")\n",
    "    plt.plot(range(len(acc_test)), acc_test, color=\"red\", lw=1.5, label=\"Testing set\")\n",
    "    plt.xlabel(\"Training epochs\")\n",
    "    plt.ylabel(\"Accuracy\")\n",
    "    plt.grid(True)\n",
    "    plt.legend(loc=\"best\")\n",
    "    plt.title(\"Accuracy of our 3-layer neural network\")\n",
    "    plt.show()"
   ]
  }
 ],
 "metadata": {
  "kernelspec": {
   "display_name": "Python 3",
   "language": "python",
   "name": "python3"
  },
  "language_info": {
   "codemirror_mode": {
    "name": "ipython",
    "version": 3
   },
   "file_extension": ".py",
   "mimetype": "text/x-python",
   "name": "python",
   "nbconvert_exporter": "python",
   "pygments_lexer": "ipython3",
   "version": "3.6.3"
  }
 },
 "nbformat": 4,
 "nbformat_minor": 2
}
