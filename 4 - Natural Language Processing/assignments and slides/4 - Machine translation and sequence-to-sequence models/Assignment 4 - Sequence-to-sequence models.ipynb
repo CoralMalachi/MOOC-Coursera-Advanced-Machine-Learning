{
 "cells": [
  {
   "cell_type": "markdown",
   "metadata": {},
   "source": [
    "# Programming assignment 4: Learn to calculate with seq2seq model\n",
    "\n",
    "In this assignment, you will learn how to use neural networks to solve sequence-to-sequence prediction tasks. Seq2Seq models are very popular these days because they achieve great results in Machine Translation, Text Summarization, Conversational Modeling and more.\n",
    "\n",
    "Using sequence-to-sequence modeling you are going to build a calculator for evaluating arithmetic expressions, by taking an equation as an input to the neural network and producing an answer as it's output.\n",
    "\n",
    "The resulting solution for this problem will be based on state-of-the-art approaches for sequence-to-sequence learning and you should be able to easily adapt it to solve other tasks. However, if you want to train your own machine translation system or intellectual chat bot, it would be useful to have access to compute resources like GPU, and be patient, because training of such systems is usually time consuming. \n",
    "\n",
    "### Libraries\n",
    "\n",
    "For this task you will need the following libraries:\n",
    " - [TensorFlow](https://www.tensorflow.org) — an open-source software library for Machine Intelligence.\n",
    " - [scikit-learn](http://scikit-learn.org/stable/index.html) — a tool for data mining and data analysis.\n",
    " \n",
    "If you have never worked with TensorFlow, you will probably want to read some tutorials during your work on this assignment, e.g. [Neural Machine Translation](https://www.tensorflow.org/tutorials/seq2seq) tutorial deals with very similar task and can explain some concepts to you. "
   ]
  },
  {
   "cell_type": "markdown",
   "metadata": {},
   "source": [
    "## 1. Data\n",
    "\n",
    "One benefit of this task is that you don't need to download any data — you will generate it on your own! We will use two operators (addition and subtraction) and work with positive integer numbers in some range. Here are examples of correct inputs and outputs:\n",
    "\n",
    "    Input: '1+2'\n",
    "    Output: '3'\n",
    "    \n",
    "    Input: '0-99'\n",
    "    Output: '-99'\n",
    "\n",
    "*Note, that there are no spaces between operators and operands.*\n",
    "\n",
    "\n",
    "Now you need to implement the function *generate_equations*, which will be used to generate the data."
   ]
  },
  {
   "cell_type": "code",
   "execution_count": 1,
   "metadata": {},
   "outputs": [],
   "source": [
    "import random"
   ]
  },
  {
   "cell_type": "code",
   "execution_count": 2,
   "metadata": {},
   "outputs": [],
   "source": [
    "def generate_equations(allowed_operators, dataset_size, min_value, max_value):\n",
    "    \"\"\"Generates pairs of equations and solutions to them.\n",
    "    \n",
    "       Each equation has a form of two integers with an operator in between.\n",
    "       Each solution is an integer with the result of the operaion.\n",
    "    \n",
    "        allowed_operators: list of strings, allowed operators.\n",
    "        dataset_size: an integer, number of equations to be generated.\n",
    "        min_value: an integer, min value of each operand.\n",
    "        max_value: an integer, max value of each operand.\n",
    "\n",
    "        result: a list of tuples of strings (equation, solution).\n",
    "    \"\"\"\n",
    "    # x operation y = z\n",
    "    sample = []\n",
    "    for _ in range(dataset_size):\n",
    "        \n",
    "        # Equation\n",
    "        x = random.randint(min_value, max_value)\n",
    "        y = random.randint(min_value, max_value)\n",
    "        operation = random.choice(allowed_operators)\n",
    "        equation = str(x)+str(operation)+str(y)\n",
    "        \n",
    "        # Solution\n",
    "        if operation == '+':\n",
    "            z = str(x + y)\n",
    "        elif operation == '-':\n",
    "            z = str(x - y)\n",
    "        \n",
    "        sample.append((equation, z))\n",
    "    return sample"
   ]
  },
  {
   "cell_type": "code",
   "execution_count": 3,
   "metadata": {},
   "outputs": [
    {
     "data": {
      "text/plain": [
       "[('6-10', '-4'),\n",
       " ('6-9', '-3'),\n",
       " ('6+5', '11'),\n",
       " ('9+9', '18'),\n",
       " ('8+5', '13'),\n",
       " ('4-1', '3'),\n",
       " ('5+10', '15'),\n",
       " ('2+7', '9')]"
      ]
     },
     "execution_count": 3,
     "metadata": {},
     "output_type": "execute_result"
    }
   ],
   "source": [
    "generate_equations(allowed_operators=['+','-'], dataset_size=8,\n",
    "                   min_value=1, max_value=10)"
   ]
  },
  {
   "cell_type": "markdown",
   "metadata": {},
   "source": [
    "To check the correctness of your implementation, use *test_generate_equations* function:"
   ]
  },
  {
   "cell_type": "code",
   "execution_count": 4,
   "metadata": {},
   "outputs": [],
   "source": [
    "def test_generate_equations():\n",
    "    allowed_operators = ['+', '-']\n",
    "    dataset_size = 10\n",
    "    for (input_, output_) in generate_equations(allowed_operators, dataset_size, 0, 100):\n",
    "        if not (type(input_) is str and type(output_) is str):\n",
    "            return \"Both parts should be strings.\"\n",
    "        if eval(input_) != int(output_):\n",
    "            return \"The (equation: {!r}, solution: {!r}) pair is incorrect.\".format(input_, output_)\n",
    "    return \"Tests passed.\""
   ]
  },
  {
   "cell_type": "code",
   "execution_count": 5,
   "metadata": {},
   "outputs": [
    {
     "name": "stdout",
     "output_type": "stream",
     "text": [
      "Tests passed.\n"
     ]
    }
   ],
   "source": [
    "print(test_generate_equations())"
   ]
  },
  {
   "cell_type": "markdown",
   "metadata": {},
   "source": [
    "Finally, we are ready to generate the train and test data for the neural network:"
   ]
  },
  {
   "cell_type": "code",
   "execution_count": 6,
   "metadata": {},
   "outputs": [],
   "source": [
    "from sklearn.model_selection import train_test_split"
   ]
  },
  {
   "cell_type": "code",
   "execution_count": 7,
   "metadata": {},
   "outputs": [],
   "source": [
    "allowed_operators = ['+', '-']\n",
    "dataset_size = 100000\n",
    "data = generate_equations(allowed_operators, dataset_size, min_value=0, max_value=9999)\n",
    "\n",
    "train_set, test_set = train_test_split(data, test_size=0.2, random_state=42)"
   ]
  },
  {
   "cell_type": "markdown",
   "metadata": {},
   "source": [
    "## 2. Prepare data for the neural network\n",
    "\n",
    "The next stage of data preparation is creating mappings of the characters to their indices in some vocabulary. Since in our task we already know which symbols will appear in the inputs and outputs, generating the vocabulary is a simple step.\n",
    "\n",
    "### How to create dictionaries for other task\n",
    "\n",
    "First of all, you need to understand what is the basic unit of the sequence in your task. In our case, we operate on symbols and the basic unit is a symbol. The number of symbols is small, so we don't need to think about filtering/normalization steps. However, in other tasks, the basic unit is often a word, and in this case the mapping would be *word $\\to$ integer*. The number of words might be huge, so it would be reasonable to filter them, for example, by frequency and leave only the frequent ones. Other strategies that your should consider are: data normalization (lowercasing, tokenization, how to consider punctuation marks), separate vocabulary for input and for output (e.g. for machine translation), some specifics of the task."
   ]
  },
  {
   "cell_type": "code",
   "execution_count": 8,
   "metadata": {},
   "outputs": [],
   "source": [
    "word2id = {symbol:i for i, symbol in enumerate('^$#+-1234567890')}\n",
    "id2word = {i:symbol for symbol, i in word2id.items()}"
   ]
  },
  {
   "cell_type": "markdown",
   "metadata": {},
   "source": [
    "### Special symbols"
   ]
  },
  {
   "cell_type": "code",
   "execution_count": 9,
   "metadata": {},
   "outputs": [],
   "source": [
    "start_symbol = '^'\n",
    "end_symbol = '$'\n",
    "padding_symbol = '#'"
   ]
  },
  {
   "cell_type": "markdown",
   "metadata": {},
   "source": [
    "You could notice that we have added 3 special symbols: '^', '\\$' and '#':\n",
    "- '^' symbol will be passed to the network to indicate the beginning of the decoding procedure. We will discuss this one later in more details.\n",
    "- '\\$' symbol will be used to indicate the *end of a string*, both for input and output sequences. \n",
    "- '#' symbol will be used as a *padding* character to make lengths of all strings equal within one training batch.\n",
    "\n",
    "People have a bit different habits when it comes to special symbols in encoder-decoder networks, so don't get too much confused if you come across other variants in tutorials you read. "
   ]
  },
  {
   "cell_type": "markdown",
   "metadata": {},
   "source": [
    "### Padding"
   ]
  },
  {
   "cell_type": "markdown",
   "metadata": {},
   "source": [
    "When vocabularies are ready, we need to be able to convert a sentence to a list of vocabulary word indices and back. At the same time, let's care about padding. We are going to preprocess each sequence from the input (and output ground truth) in such a way that:\n",
    "- it has a predefined length *padded_len*\n",
    "- it is probably cut off or padded with the *padding symbol* '#'\n",
    "- it *always* ends with the *end symbol* '$'\n",
    "\n",
    "We will treat the original characters of the sequence **and the end symbol** as the valid part of the input. We will store *the actual length* of the sequence, which includes the end symbol, but does not include the padding symbols. "
   ]
  },
  {
   "cell_type": "markdown",
   "metadata": {},
   "source": [
    " Now you need to implement the function *sentence_to_ids* that does the described job. "
   ]
  },
  {
   "cell_type": "code",
   "execution_count": 10,
   "metadata": {},
   "outputs": [],
   "source": [
    "def sentence_to_ids(sentence, word2id, padded_len):\n",
    "    \"\"\" Converts a sequence of symbols to a padded sequence of their ids.\n",
    "    \n",
    "      sentence: a string, input/output sequence of symbols.\n",
    "      word2id: a dict, a mapping from original symbols to ids.\n",
    "      padded_len: an integer, a desirable length of the sequence.\n",
    "\n",
    "      result: a tuple of (a list of ids, an actual length of sentence).\n",
    "    \"\"\"\n",
    "    \n",
    "    sent_ids = [word2id[i] for i in sentence]\n",
    "    sent_len = len(sent_ids[:padded_len-1])+1\n",
    "    paddings_to_be_added = padded_len-len(sent_ids)-1\n",
    "    \n",
    "    sent_ids = sent_ids[:padded_len-1]\n",
    "    sent_ids += [word2id['$']]\n",
    "    sent_ids += [word2id['#']] * paddings_to_be_added\n",
    "    \n",
    "    return sent_ids, sent_len"
   ]
  },
  {
   "cell_type": "code",
   "execution_count": 11,
   "metadata": {},
   "outputs": [
    {
     "data": {
      "text/plain": [
       "{'#': 2,\n",
       " '$': 1,\n",
       " '+': 3,\n",
       " '-': 4,\n",
       " '0': 14,\n",
       " '1': 5,\n",
       " '2': 6,\n",
       " '3': 7,\n",
       " '4': 8,\n",
       " '5': 9,\n",
       " '6': 10,\n",
       " '7': 11,\n",
       " '8': 12,\n",
       " '9': 13,\n",
       " '^': 0}"
      ]
     },
     "execution_count": 11,
     "metadata": {},
     "output_type": "execute_result"
    }
   ],
   "source": [
    "word2id"
   ]
  },
  {
   "cell_type": "code",
   "execution_count": 12,
   "metadata": {},
   "outputs": [
    {
     "data": {
      "text/plain": [
       "([5, 6, 7, 3, 5, 6, 7, 1, 2, 2, 2, 2], 8)"
      ]
     },
     "execution_count": 12,
     "metadata": {},
     "output_type": "execute_result"
    }
   ],
   "source": [
    "sentence_to_ids(sentence=(\"123+123\"), word2id=word2id,\n",
    "                padded_len=12)"
   ]
  },
  {
   "cell_type": "markdown",
   "metadata": {},
   "source": [
    "Check that your implementation is correct:"
   ]
  },
  {
   "cell_type": "code",
   "execution_count": 13,
   "metadata": {},
   "outputs": [],
   "source": [
    "def test_sentence_to_ids():\n",
    "    sentences = [(\"123+123\", 7), (\"123+123\", 8), (\"123+123\", 10)]\n",
    "    expected_output = [([5, 6, 7, 3, 5, 6, 1], 7), \n",
    "                       ([5, 6, 7, 3, 5, 6, 7, 1], 8), \n",
    "                       ([5, 6, 7, 3, 5, 6, 7, 1, 2, 2], 8)] \n",
    "    for (sentence, padded_len), (sentence_ids, expected_length) in zip(sentences, expected_output):\n",
    "        output, length = sentence_to_ids(sentence, word2id, padded_len)\n",
    "        if output != sentence_ids:\n",
    "            return(\"Convertion of '{}' for padded_len={} to {} is incorrect.\".format(\n",
    "                sentence, padded_len, output))\n",
    "        if length != expected_length:\n",
    "            return(\"Convertion of '{}' for padded_len={} has incorrect actual length {}.\".format(\n",
    "                sentence, padded_len, length))\n",
    "    return(\"Tests passed.\")"
   ]
  },
  {
   "cell_type": "code",
   "execution_count": 14,
   "metadata": {},
   "outputs": [
    {
     "name": "stdout",
     "output_type": "stream",
     "text": [
      "Tests passed.\n"
     ]
    }
   ],
   "source": [
    "print(test_sentence_to_ids())"
   ]
  },
  {
   "cell_type": "markdown",
   "metadata": {},
   "source": [
    "We also need to be able to get back from indices to symbols:"
   ]
  },
  {
   "cell_type": "code",
   "execution_count": 15,
   "metadata": {},
   "outputs": [],
   "source": [
    "def ids_to_sentence(ids, id2word):\n",
    "    \"\"\" Converts a sequence of ids to a sequence of symbols.\n",
    "    \n",
    "          ids: a list, indices for the padded sequence.\n",
    "          id2word:  a dict, a mapping from ids to original symbols.\n",
    "\n",
    "          result: a list of symbols.\n",
    "    \"\"\"\n",
    " \n",
    "    return [id2word[i] for i in ids] "
   ]
  },
  {
   "cell_type": "markdown",
   "metadata": {},
   "source": [
    "### Generating batches"
   ]
  },
  {
   "cell_type": "markdown",
   "metadata": {},
   "source": [
    "The final step of data preparation is a function that transforms a batch of sentences to a list of lists of indices. "
   ]
  },
  {
   "cell_type": "code",
   "execution_count": 16,
   "metadata": {},
   "outputs": [],
   "source": [
    "def batch_to_ids(sentences, word2id, max_len):\n",
    "    \"\"\"Prepares batches of indices. \n",
    "    \n",
    "       Sequences are padded to match the longest sequence in the batch,\n",
    "       if it's longer than max_len, then max_len is used instead.\n",
    "\n",
    "        sentences: a list of strings, original sequences.\n",
    "        word2id: a dict, a mapping from original symbols to ids.\n",
    "        max_len: an integer, max len of sequences allowed.\n",
    "\n",
    "        result: a list of lists of ids, a list of actual lengths.\n",
    "    \"\"\"\n",
    "    \n",
    "    max_len_in_batch = min(max(len(s) for s in sentences) + 1, max_len)\n",
    "    batch_ids, batch_ids_len = [], []\n",
    "    for sentence in sentences:\n",
    "        ids, ids_len = sentence_to_ids(sentence, word2id, max_len_in_batch)\n",
    "        batch_ids.append(ids)\n",
    "        batch_ids_len.append(ids_len)\n",
    "    return batch_ids, batch_ids_len"
   ]
  },
  {
   "cell_type": "markdown",
   "metadata": {},
   "source": [
    "The function *generate_batches* will help to generate batches with defined size from given samples."
   ]
  },
  {
   "cell_type": "code",
   "execution_count": 17,
   "metadata": {},
   "outputs": [],
   "source": [
    "def generate_batches(samples, batch_size=64):\n",
    "    X, Y = [], []\n",
    "    for i, (x, y) in enumerate(samples, 1):\n",
    "        X.append(x)\n",
    "        Y.append(y)\n",
    "        if i % batch_size == 0:\n",
    "            yield X, Y\n",
    "            X, Y = [], []\n",
    "    if X and Y:\n",
    "        yield X, Y"
   ]
  },
  {
   "cell_type": "markdown",
   "metadata": {},
   "source": [
    "To illustrate the result of the implemented functions, run the following cell:"
   ]
  },
  {
   "cell_type": "code",
   "execution_count": 18,
   "metadata": {},
   "outputs": [
    {
     "name": "stdout",
     "output_type": "stream",
     "text": [
      "Input: ('6597-6946', '-349')\n",
      "Ids: [[10, 9, 13, 11, 4, 10, 13, 8, 10, 1], [4, 7, 8, 13, 1, 2, 2, 2, 2, 2]]\n",
      "Sentences lengths: [10, 5]\n"
     ]
    }
   ],
   "source": [
    "sentences = train_set[0]\n",
    "ids, sent_lens = batch_to_ids(sentences, word2id, max_len=10)\n",
    "print('Input:', sentences)\n",
    "print('Ids: {}\\nSentences lengths: {}'.format(ids, sent_lens))"
   ]
  },
  {
   "cell_type": "markdown",
   "metadata": {},
   "source": [
    "## 3. Encoder-Decoder architecture\n",
    "\n",
    "Encoder-Decoder is a successful architecture for Seq2Seq tasks with different lengths of input and output sequences. The main idea is to use two recurrent neural networks, where the first neural network *encodes* the input sequence into a real-valued vector and then the second neural network *decodes* this vector into the output sequence. While building the neural network, we will specify some particular characteristics of this architecture."
   ]
  },
  {
   "cell_type": "code",
   "execution_count": 23,
   "metadata": {},
   "outputs": [],
   "source": [
    "import tensorflow as tf"
   ]
  },
  {
   "cell_type": "markdown",
   "metadata": {},
   "source": [
    "Let us use TensorFlow building blocks to specify the network architecture."
   ]
  },
  {
   "cell_type": "code",
   "execution_count": 24,
   "metadata": {},
   "outputs": [],
   "source": [
    "class Seq2SeqModel(object):\n",
    "    pass"
   ]
  },
  {
   "cell_type": "markdown",
   "metadata": {},
   "source": [
    "First, we need to create [placeholders](https://www.tensorflow.org/api_guides/python/io_ops#Placeholders) to specify what data we are going to feed into the network during the execution time. For this task we will need:\n",
    " - *input_batch* — sequences of sentences (the shape will equal to [batch_size, max_sequence_len_in_batch]);\n",
    " - *input_batch_lengths* — lengths of not padded sequences (the shape equals to [batch_size]);\n",
    " - *ground_truth* — sequences of groundtruth (the shape will equal to [batch_size, max_sequence_len_in_batch]);\n",
    " - *ground_truth_lengths* — lengths of not padded groundtruth sequences (the shape equals to [batch_size]);\n",
    " - *dropout_ph* — dropout keep probability; this placeholder has a predifined value 1;\n",
    " - *learning_rate_ph* — learning rate."
   ]
  },
  {
   "cell_type": "code",
   "execution_count": 25,
   "metadata": {},
   "outputs": [],
   "source": [
    "def declare_placeholders(self):\n",
    "    \"\"\"Specifies placeholders for the model.\"\"\"\n",
    "    \n",
    "    # Placeholders for input and its actual lengths.\n",
    "    self.input_batch = tf.placeholder(shape=(None, None), dtype=tf.int32, name='input_batch')\n",
    "    self.input_batch_lengths = tf.placeholder(shape=(None, ), dtype=tf.int32, name='input_batch_lengths')\n",
    "    \n",
    "    # Placeholders for groundtruth and its actual lengths.\n",
    "    self.ground_truth = tf.placeholder(shape=(None, None), dtype=tf.int32)\n",
    "    self.ground_truth_lengths = tf.placeholder(shape=(None,), dtype=tf.int32)\n",
    "        \n",
    "    self.dropout_ph = tf.placeholder_with_default(tf.cast(1.0, tf.float32), shape=[])\n",
    "    self.learning_rate_ph = tf.placeholder(shape=[], dtype=tf.float32)"
   ]
  },
  {
   "cell_type": "code",
   "execution_count": 26,
   "metadata": {},
   "outputs": [],
   "source": [
    "Seq2SeqModel.__declare_placeholders = classmethod(declare_placeholders)"
   ]
  },
  {
   "cell_type": "markdown",
   "metadata": {},
   "source": [
    "Now, let us specify the layers of the neural network. First, we need to prepare an embedding matrix. Since we use the same vocabulary for input and output, we need only one such matrix. For tasks with different vocabularies there would be multiple embedding layers.\n",
    "- Create embeddings matrix with [tf.Variable](https://www.tensorflow.org/api_docs/python/tf/Variable). Specify its name, type (tf.float32), and initialize with random values.\n",
    "- Perform [embeddings lookup](https://www.tensorflow.org/api_docs/python/tf/nn/embedding_lookup) for a given input batch."
   ]
  },
  {
   "cell_type": "code",
   "execution_count": 27,
   "metadata": {},
   "outputs": [],
   "source": [
    "def create_embeddings(self, vocab_size, embeddings_size):\n",
    "    \"\"\"Specifies embeddings layer and embeds an input batch.\"\"\"\n",
    "     \n",
    "    random_initializer = tf.random_uniform((vocab_size, embeddings_size), -1.0, 1.0)\n",
    "    self.embeddings = tf.Variable(random_initializer, dtype=tf.float32)\n",
    "    \n",
    "    # Perform embeddings lookup for self.input_batch. \n",
    "    self.input_batch_embedded = tf.nn.embedding_lookup(params=self.embeddings, ids=self.input_batch) "
   ]
  },
  {
   "cell_type": "code",
   "execution_count": 28,
   "metadata": {},
   "outputs": [],
   "source": [
    "Seq2SeqModel.__create_embeddings = classmethod(create_embeddings)"
   ]
  },
  {
   "cell_type": "markdown",
   "metadata": {},
   "source": [
    "### Encoder\n",
    "\n",
    "The first RNN of the current architecture is called an *encoder* and serves for encoding an input sequence to a real-valued vector. Input of this RNN is an embedded input batch. Since sentences in the same batch could have different actual lengths, we also provide input lengths to avoid unnecessary computations. The final encoder state will be passed to the second RNN (decoder), which we will create soon. \n",
    "\n",
    "- TensorFlow provides a number of [RNN cells](https://www.tensorflow.org/api_guides/python/contrib.rnn#Core_RNN_Cells_for_use_with_TensorFlow_s_core_RNN_methods) ready for use. We suggest that you use [GRU cell](https://www.tensorflow.org/api_docs/python/tf/contrib/rnn/GRUCell), but you can also experiment with other types. \n",
    "- Wrap your cells with [DropoutWrapper](https://www.tensorflow.org/api_docs/python/tf/contrib/rnn/DropoutWrapper). Dropout is an important regularization technique for neural networks. Specify input keep probability using the dropout placeholder that we created before.\n",
    "- Combine the defined encoder cells with [Dynamic RNN](https://www.tensorflow.org/api_docs/python/tf/nn/dynamic_rnn). Use the embedded input batches and their lengths here.\n",
    "- Use *dtype=tf.float32* everywhere."
   ]
  },
  {
   "cell_type": "code",
   "execution_count": 29,
   "metadata": {},
   "outputs": [],
   "source": [
    "def build_encoder(self, hidden_size):\n",
    "    \"\"\"Specifies encoder architecture and computes its output.\"\"\"\n",
    "    \n",
    "    # Create GRUCell with dropout.\n",
    "    gru_cell = tf.contrib.rnn.GRUCell(hidden_size)\n",
    "    encoder_cell = tf.contrib.rnn.DropoutWrapper(gru_cell, input_keep_prob=self.dropout_ph)\n",
    "    \n",
    "    # Create RNN with the predefined cell.\n",
    "    _, self.final_encoder_state = tf.nn.dynamic_rnn(cell=encoder_cell,\n",
    "                                                    inputs=self.input_batch_embedded,\n",
    "                                                    sequence_length=self.input_batch_lengths,\n",
    "                                                    dtype=tf.float32)"
   ]
  },
  {
   "cell_type": "code",
   "execution_count": 30,
   "metadata": {},
   "outputs": [],
   "source": [
    "Seq2SeqModel.__build_encoder = classmethod(build_encoder)"
   ]
  },
  {
   "cell_type": "markdown",
   "metadata": {},
   "source": [
    "### Decoder\n",
    "\n",
    "The second RNN is called a *decoder* and serves for generating the output sequence. In the simple seq2seq arcitecture, the input sequence is provided to the decoder only as the final state of the encoder. Obviously, it is a bottleneck and [Attention techniques](https://www.tensorflow.org/tutorials/seq2seq#background_on_the_attention_mechanism) can help to overcome it. So far, we do not need them to make our calculator work, but this would be a necessary ingredient for more advanced tasks. \n",
    "\n",
    "During training, decoder also uses information about the true output. It is feeded in as input symbol by symbol. However, during the prediction stage (which is called *inference* in this architecture), the decoder can only use its own generated output from the previous step to feed it in at the next step. Because of this difference (*training* vs *inference*), we will create two distinct instances, which will serve for the described scenarios.\n",
    "\n",
    "The picture below illustrates the point. It also shows our work with the special characters, e.g. look how the start symbol `^` is used. The transparent parts are ignored. In decoder, it is masked out in the loss computation. In encoder, the green state is considered as final and passed to the decoder. "
   ]
  },
  {
   "cell_type": "markdown",
   "metadata": {},
   "source": [
    "<img src=\"encoder-decoder-pic.png\" style=\"width: 500px;\">"
   ]
  },
  {
   "cell_type": "markdown",
   "metadata": {},
   "source": [
    "Now, it's time to implement the decoder:\n",
    " - First, we should create two [helpers](https://www.tensorflow.org/api_guides/python/contrib.seq2seq#Dynamic_Decoding). These classes help to determine the behaviour of the decoder. During the training time, we will use [TrainingHelper](https://www.tensorflow.org/api_docs/python/tf/contrib/seq2seq/TrainingHelper). For the inference we recommend to use [GreedyEmbeddingHelper](https://www.tensorflow.org/api_docs/python/tf/contrib/seq2seq/GreedyEmbeddingHelper).\n",
    " - To share all parameters during training and inference, we use one scope and set the flag 'reuse' to True at inference time. You might be interested to know more about how [variable scopes](https://www.tensorflow.org/programmers_guide/variables) work in TF. \n",
    " - To create the decoder itself, we will use [BasicDecoder](https://www.tensorflow.org/api_docs/python/tf/contrib/seq2seq/BasicDecoder) class. As previously, you should choose some RNN cell, e.g. GRU cell. To turn hidden states into logits, we will need a projection layer. One of the simple solutions is using [OutputProjectionWrapper](https://www.tensorflow.org/api_docs/python/tf/contrib/rnn/OutputProjectionWrapper).\n",
    " - For getting the predictions, it will be convinient to use [dynamic_decode](https://www.tensorflow.org/api_docs/python/tf/contrib/seq2seq/dynamic_decode). This function uses the provided decoder to perform decoding."
   ]
  },
  {
   "cell_type": "code",
   "execution_count": 31,
   "metadata": {},
   "outputs": [],
   "source": [
    "def build_decoder(self, hidden_size, vocab_size, max_iter, start_symbol_id, end_symbol_id):\n",
    "    \"\"\"Specifies decoder architecture and computes the output.\n",
    "    \n",
    "        Uses different helpers:\n",
    "          - for train: feeding ground truth\n",
    "          - for inference: feeding generated output\n",
    "\n",
    "        As a result, self.train_outputs and self.infer_outputs are created. \n",
    "        Each of them contains two fields:\n",
    "          rnn_output (predicted logits)\n",
    "          sample_id (predictions).\n",
    "\n",
    "    \"\"\"\n",
    "    \n",
    "    # Use start symbols as the decoder inputs at the first time step.\n",
    "    batch_size = tf.shape(self.input_batch)[0]\n",
    "    start_tokens = tf.fill([batch_size], start_symbol_id)\n",
    "    ground_truth_as_input = tf.concat([tf.expand_dims(start_tokens, 1), self.ground_truth], 1)\n",
    "    \n",
    "    # Use the embedding layer defined before to lookup embedings for ground_truth_as_input. \n",
    "    self.ground_truth_embedded = tf.nn.embedding_lookup(params=self.embeddings,\n",
    "                                                        ids=ground_truth_as_input)\n",
    "     \n",
    "    # Create TrainingHelper for the train stage.\n",
    "    train_helper = tf.contrib.seq2seq.TrainingHelper(self.ground_truth_embedded, \n",
    "                                                     self.ground_truth_lengths)\n",
    "    \n",
    "    # Create GreedyEmbeddingHelper for the inference stage.\n",
    "    # You should provide the embedding layer, start_tokens and index of the end symbol.\n",
    "    infer_helper = tf.contrib.seq2seq.GreedyEmbeddingHelper(embedding=self.embeddings,\n",
    "                                                            start_tokens=start_tokens,\n",
    "                                                            end_token=end_symbol_id)\n",
    "    \n",
    "  \n",
    "    def decode(helper, scope, reuse=None):\n",
    "        \"\"\"Creates decoder and return the results of the decoding with a given helper.\"\"\"\n",
    "        \n",
    "        with tf.variable_scope(scope, reuse=reuse):\n",
    "            # Create GRUCell with dropout. Do not forget to set the reuse flag properly.\n",
    "            gru_cell = tf.contrib.rnn.GRUCell(hidden_size, reuse=reuse)\n",
    "            decoder_cell = tf.contrib.rnn.DropoutWrapper(gru_cell, self.dropout_ph)\n",
    "            \n",
    "            # Create a projection wrapper.\n",
    "            decoder_cell = tf.contrib.rnn.OutputProjectionWrapper(decoder_cell, vocab_size, reuse=reuse)\n",
    "            \n",
    "            # Create BasicDecoder, pass the defined cell, a helper, and initial state.\n",
    "            # The initial state should be equal to the final state of the encoder!\n",
    "            decoder = tf.contrib.seq2seq.BasicDecoder(decoder_cell, helper=helper,\n",
    "                                                      initial_state=self.final_encoder_state)\n",
    "            \n",
    "            # The first returning argument of dynamic_decode contains two fields:\n",
    "            #   rnn_output (predicted logits)\n",
    "            #   sample_id (predictions)\n",
    "            outputs, _, _ = tf.contrib.seq2seq.dynamic_decode(decoder=decoder, maximum_iterations=max_iter, \n",
    "                                                              output_time_major=False, impute_finished=True)\n",
    "\n",
    "            return outputs\n",
    "        \n",
    "    self.train_outputs = decode(train_helper, 'decode')\n",
    "    self.infer_outputs = decode(infer_helper, 'decode', reuse=True)"
   ]
  },
  {
   "cell_type": "code",
   "execution_count": 32,
   "metadata": {},
   "outputs": [],
   "source": [
    "Seq2SeqModel.__build_decoder = classmethod(build_decoder)"
   ]
  },
  {
   "cell_type": "markdown",
   "metadata": {},
   "source": [
    "In this task we will use [sequence_loss](https://www.tensorflow.org/api_docs/python/tf/contrib/seq2seq/sequence_loss), which is a weighted cross-entropy loss for a sequence of logits. Take a moment to understand, what is your train logits and targets. Also note, that we do not want to take into account loss terms coming from padding symbols, so we will mask them out using weights.  "
   ]
  },
  {
   "cell_type": "code",
   "execution_count": 33,
   "metadata": {},
   "outputs": [],
   "source": [
    "def compute_loss(self):\n",
    "    \"\"\"Computes sequence loss (masked cross-entopy loss with logits).\"\"\"\n",
    "    \n",
    "    weights = tf.cast(tf.sequence_mask(self.ground_truth_lengths), dtype=tf.float32)\n",
    "    \n",
    "    self.loss = tf.contrib.seq2seq.sequence_loss(logits=self.train_outputs.rnn_output,\n",
    "                                                 targets=self.ground_truth,\n",
    "                                                 weights=weights)"
   ]
  },
  {
   "cell_type": "code",
   "execution_count": 34,
   "metadata": {},
   "outputs": [],
   "source": [
    "Seq2SeqModel.__compute_loss = classmethod(compute_loss)"
   ]
  },
  {
   "cell_type": "markdown",
   "metadata": {},
   "source": [
    "The last thing to specify is the optimization of the defined loss. \n",
    "We suggest that you use [optimize_loss](https://www.tensorflow.org/api_docs/python/tf/contrib/layers/optimize_loss) with Adam optimizer and a learning rate from the corresponding placeholder. You might also need to pass global step (e.g. as tf.train.get_global_step()) and clip gradients by 1.0."
   ]
  },
  {
   "cell_type": "code",
   "execution_count": 35,
   "metadata": {},
   "outputs": [],
   "source": [
    "def perform_optimization(self):\n",
    "    \"\"\"Specifies train_op that optimizes self.loss.\"\"\"\n",
    "    \n",
    "    self.train_op = tf.contrib.layers.optimize_loss(self.loss, optimizer='Adam',\n",
    "                                                    learning_rate=self.learning_rate_ph,\n",
    "                                                    clip_gradients=1.0,\n",
    "                                                    global_step=tf.train.get_global_step())"
   ]
  },
  {
   "cell_type": "code",
   "execution_count": 36,
   "metadata": {},
   "outputs": [],
   "source": [
    "Seq2SeqModel.__perform_optimization = classmethod(perform_optimization)"
   ]
  },
  {
   "cell_type": "markdown",
   "metadata": {},
   "source": [
    "Congratulations! You have specified all the parts of your network. You may have noticed, that we didn't deal with any real data yet, so what you have written is just recipies on how the network should function.\n",
    "Now we will put them to the constructor of our Seq2SeqModel class to use it in the next section. "
   ]
  },
  {
   "cell_type": "code",
   "execution_count": 37,
   "metadata": {},
   "outputs": [],
   "source": [
    "def init_model(self, vocab_size, embeddings_size, hidden_size, \n",
    "               max_iter, start_symbol_id, end_symbol_id, padding_symbol_id):\n",
    "    \n",
    "    self.__declare_placeholders()\n",
    "    self.__create_embeddings(vocab_size, embeddings_size)\n",
    "    self.__build_encoder(hidden_size)\n",
    "    self.__build_decoder(hidden_size, vocab_size, max_iter, start_symbol_id, end_symbol_id)\n",
    "    \n",
    "    # Compute loss and back-propagate.\n",
    "    self.__compute_loss()\n",
    "    self.__perform_optimization()\n",
    "    \n",
    "    # Get predictions for evaluation.\n",
    "    self.train_predictions = self.train_outputs.sample_id\n",
    "    self.infer_predictions = self.infer_outputs.sample_id"
   ]
  },
  {
   "cell_type": "code",
   "execution_count": 38,
   "metadata": {},
   "outputs": [],
   "source": [
    "Seq2SeqModel.__init__ = classmethod(init_model)"
   ]
  },
  {
   "cell_type": "markdown",
   "metadata": {},
   "source": [
    "## 4. Train the network and predict output\n",
    "\n",
    "[Session.run](https://www.tensorflow.org/api_docs/python/tf/Session#run) is a point which initiates computations in the graph that we have defined. To train the network, we need to compute *self.train_op*. To predict output, we just need to compute *self.infer_predictions*. In any case, we need to feed actual data through the placeholders that we defined above. "
   ]
  },
  {
   "cell_type": "code",
   "execution_count": 39,
   "metadata": {},
   "outputs": [],
   "source": [
    "def train_on_batch(self, session, X, X_seq_len, Y, Y_seq_len, learning_rate, dropout_keep_probability):\n",
    "    feed_dict = {\n",
    "            self.input_batch: X,\n",
    "            self.input_batch_lengths: X_seq_len,\n",
    "            self.ground_truth: Y,\n",
    "            self.ground_truth_lengths: Y_seq_len,\n",
    "            self.learning_rate_ph: learning_rate,\n",
    "            self.dropout_ph: dropout_keep_probability\n",
    "        }\n",
    "    pred, loss, _ = session.run([\n",
    "            self.train_predictions,\n",
    "            self.loss,\n",
    "            self.train_op], feed_dict=feed_dict)\n",
    "    return pred, loss"
   ]
  },
  {
   "cell_type": "code",
   "execution_count": 40,
   "metadata": {},
   "outputs": [],
   "source": [
    "Seq2SeqModel.train_on_batch = classmethod(train_on_batch)"
   ]
  },
  {
   "cell_type": "markdown",
   "metadata": {},
   "source": [
    "We implemented two prediction functions: *predict_for_batch* and *predict_for_batch_with_loss*. The first one allows only to predict output for some input sequence, while the second one could compute loss because we provide also ground truth values. Both these functions might be useful since the first one could be used for predicting only, and the second one is helpful for validating results on not-training data during the training."
   ]
  },
  {
   "cell_type": "code",
   "execution_count": 41,
   "metadata": {},
   "outputs": [],
   "source": [
    "def predict_for_batch(self, session, X, X_seq_len):\n",
    "    feed_dict = {self.input_batch: X, self.input_batch_lengths: X_seq_len}\n",
    "    \n",
    "    pred = session.run([\n",
    "            self.infer_predictions\n",
    "        ], feed_dict=feed_dict)[0]\n",
    "    \n",
    "    return pred\n",
    "\n",
    "def predict_for_batch_with_loss(self, session, X, X_seq_len, Y, Y_seq_len):\n",
    "    feed_dict = {self.input_batch: X, self.input_batch_lengths: X_seq_len,\n",
    "                 self.ground_truth: Y, self.ground_truth_lengths: Y_seq_len}\n",
    "    \n",
    "    pred, loss = session.run([\n",
    "            self.infer_predictions,\n",
    "            self.loss,\n",
    "        ], feed_dict=feed_dict)\n",
    "    \n",
    "    return pred, loss"
   ]
  },
  {
   "cell_type": "code",
   "execution_count": 42,
   "metadata": {},
   "outputs": [],
   "source": [
    "Seq2SeqModel.predict_for_batch = classmethod(predict_for_batch)\n",
    "Seq2SeqModel.predict_for_batch_with_loss = classmethod(predict_for_batch_with_loss)"
   ]
  },
  {
   "cell_type": "markdown",
   "metadata": {},
   "source": [
    "## 5. Run your experiment\n",
    "\n",
    "Create *Seq2SeqModel* model with the following parameters:\n",
    " - *vocab_size* — number of tokens;\n",
    " - *embeddings_size* — dimension of embeddings, recommended value: 20;\n",
    " - *max_iter* — maximum number of steps in decoder, recommended value: 7;\n",
    " - *hidden_size* — size of hidden layers for RNN, recommended value: 512;\n",
    " - *start_symbol_id* — an index of the start token (`^`).\n",
    " - *end_symbol_id* — an index of the end token (`$`).\n",
    " - *padding_symbol_id* — an index of the padding token (`#`).\n",
    "\n",
    "Set hyperparameters. You might want to start with the following values and see how it works:\n",
    "- *batch_size*: 128;\n",
    "- **at least 10 epochs (to be increased later)**;\n",
    "- value of *learning_rate*: 0.001\n",
    "- *dropout_keep_probability* equals to 0.5 for training (typical values for dropout probability are ranging from 0.1 to 1.0); larger values correspond smaler number of dropout units;\n",
    "- *max_len*: 20."
   ]
  },
  {
   "cell_type": "code",
   "execution_count": 43,
   "metadata": {},
   "outputs": [],
   "source": [
    "from IPython.display import clear_output"
   ]
  },
  {
   "cell_type": "markdown",
   "metadata": {},
   "source": [
    "### a) Experiment 1: Default hyperparameters"
   ]
  },
  {
   "cell_type": "code",
   "execution_count": 44,
   "metadata": {},
   "outputs": [],
   "source": [
    "tf.reset_default_graph()\n",
    "\n",
    "model = Seq2SeqModel(vocab_size=len(word2id),\n",
    "                     embeddings_size=20,\n",
    "                     max_iter=7,\n",
    "                     hidden_size=512,\n",
    "                     start_symbol_id=word2id['^'],\n",
    "                     end_symbol_id=word2id['$'],\n",
    "                     padding_symbol_id=word2id['#'])\n",
    "\n",
    "batch_size = 128\n",
    "n_epochs = 10\n",
    "learning_rate = 0.001\n",
    "dropout_keep_probability = 0.5\n",
    "max_len = 20\n",
    "\n",
    "n_step = int(len(train_set) / batch_size)"
   ]
  },
  {
   "cell_type": "markdown",
   "metadata": {},
   "source": [
    "Finally, we are ready to run the training! A good indicator that everything works fine is decreasing loss during the training. You should account on the loss value equal to approximately 2.7 at the beginning of the training and near 1 after the 10th epoch."
   ]
  },
  {
   "cell_type": "code",
   "execution_count": 45,
   "metadata": {
    "scrolled": true
   },
   "outputs": [
    {
     "name": "stdout",
     "output_type": "stream",
     "text": [
      "Start training... \n",
      "\n",
      "Train: Epoch 1\n",
      "Epoch: [1/10], step: [1/625], Loss: 2.709759\n",
      "Epoch: [1/10], step: [201/625], Loss: 1.793447\n",
      "Epoch: [1/10], step: [401/625], Loss: 1.700970\n",
      "Epoch: [1/10], step: [601/625], Loss: 1.640862\n",
      "\n",
      "Test: Epoch 1 Loss: 1.5711195\n",
      "X: 952+7391$#\n",
      "Y: 8343$#\n",
      "O: 8828$^\n",
      "\n",
      "X: 4065+3088$\n",
      "Y: 7153$#\n",
      "O: 7022$^\n",
      "\n",
      "X: 9574-4779$\n",
      "Y: 4795$#\n",
      "O: 3332$^\n",
      "\n",
      "Train: Epoch 2\n",
      "Epoch: [2/10], step: [1/625], Loss: 1.634230\n",
      "Epoch: [2/10], step: [201/625], Loss: 1.542402\n",
      "Epoch: [2/10], step: [401/625], Loss: 1.503243\n",
      "Epoch: [2/10], step: [601/625], Loss: 1.452143\n",
      "\n",
      "Test: Epoch 2 Loss: 1.4374545\n",
      "X: 1+4018$###\n",
      "Y: 4019$#\n",
      "O: 3505$^\n",
      "\n",
      "X: 1289-6650$\n",
      "Y: -5361$\n",
      "O: -4788$\n",
      "\n",
      "X: 3123+2212$\n",
      "Y: 5335$#\n",
      "O: 5888$^\n",
      "\n",
      "Train: Epoch 3\n",
      "Epoch: [3/10], step: [1/625], Loss: 1.474639\n",
      "Epoch: [3/10], step: [201/625], Loss: 1.457827\n",
      "Epoch: [3/10], step: [401/625], Loss: 1.415966\n",
      "Epoch: [3/10], step: [601/625], Loss: 1.418570\n",
      "\n",
      "Test: Epoch 3 Loss: 1.362211\n",
      "X: 4136+7907$\n",
      "Y: 12043$\n",
      "O: 11555$\n",
      "\n",
      "X: 1752+4851$\n",
      "Y: 6603$#\n",
      "O: 7070$^\n",
      "\n",
      "X: 1185+1577$\n",
      "Y: 2762$#\n",
      "O: 3455$^\n",
      "\n",
      "Train: Epoch 4\n",
      "Epoch: [4/10], step: [1/625], Loss: 1.382703\n",
      "Epoch: [4/10], step: [201/625], Loss: 1.352422\n",
      "Epoch: [4/10], step: [401/625], Loss: 1.342922\n",
      "Epoch: [4/10], step: [601/625], Loss: 1.341873\n",
      "\n",
      "Test: Epoch 4 Loss: 1.2557656\n",
      "X: 5527-3542$\n",
      "Y: 1985$#\n",
      "O: 2197$^\n",
      "\n",
      "X: 1408-8085$\n",
      "Y: -6677$\n",
      "O: -6472$\n",
      "\n",
      "X: 2997+2001$\n",
      "Y: 4998$#\n",
      "O: 5198$^\n",
      "\n",
      "Train: Epoch 5\n",
      "Epoch: [5/10], step: [1/625], Loss: 1.346888\n",
      "Epoch: [5/10], step: [201/625], Loss: 1.307646\n",
      "Epoch: [5/10], step: [401/625], Loss: 1.293359\n",
      "Epoch: [5/10], step: [601/625], Loss: 1.278662\n",
      "\n",
      "Test: Epoch 5 Loss: 1.2586772\n",
      "X: 2624-9997$\n",
      "Y: -7373$\n",
      "O: -7283$\n",
      "\n",
      "X: 9095-6993$\n",
      "Y: 2102$#\n",
      "O: 2011$^\n",
      "\n",
      "X: 2773+7510$\n",
      "Y: 10283$\n",
      "O: 10211$\n",
      "\n",
      "Train: Epoch 6\n",
      "Epoch: [6/10], step: [1/625], Loss: 1.253468\n",
      "Epoch: [6/10], step: [201/625], Loss: 1.298454\n",
      "Epoch: [6/10], step: [401/625], Loss: 1.208341\n",
      "Epoch: [6/10], step: [601/625], Loss: 1.189307\n",
      "\n",
      "Test: Epoch 6 Loss: 1.1141124\n",
      "X: 2064-1454$\n",
      "Y: 610$##\n",
      "O: 781$^^\n",
      "\n",
      "X: 1096-9980$\n",
      "Y: -8884$\n",
      "O: -8833$\n",
      "\n",
      "X: 5947-1046$\n",
      "Y: 4901$#\n",
      "O: 4690$^\n",
      "\n",
      "Train: Epoch 7\n",
      "Epoch: [7/10], step: [1/625], Loss: 1.172622\n",
      "Epoch: [7/10], step: [201/625], Loss: 1.119092\n",
      "Epoch: [7/10], step: [401/625], Loss: 1.032591\n",
      "Epoch: [7/10], step: [601/625], Loss: 1.082382\n",
      "\n",
      "Test: Epoch 7 Loss: 1.0251963\n",
      "X: 4465-5787$\n",
      "Y: -1322$\n",
      "O: -1358$\n",
      "\n",
      "X: 717+652$##\n",
      "Y: 1369$#\n",
      "O: 1301$^\n",
      "\n",
      "X: 3799+9771$\n",
      "Y: 13570$\n",
      "O: 13534$\n",
      "\n",
      "Train: Epoch 8\n",
      "Epoch: [8/10], step: [1/625], Loss: 1.087741\n",
      "Epoch: [8/10], step: [201/625], Loss: 1.012751\n",
      "Epoch: [8/10], step: [401/625], Loss: 1.015974\n",
      "Epoch: [8/10], step: [601/625], Loss: 1.019473\n",
      "\n",
      "Test: Epoch 8 Loss: 0.9519419\n",
      "X: 1392-11$##\n",
      "Y: 1381$#\n",
      "O: 1277$^\n",
      "\n",
      "X: 1505-6774$\n",
      "Y: -5269$\n",
      "O: -5256$\n",
      "\n",
      "X: 8662+6285$\n",
      "Y: 14947$\n",
      "O: 14937$\n",
      "\n",
      "Train: Epoch 9\n",
      "Epoch: [9/10], step: [1/625], Loss: 0.987489\n",
      "Epoch: [9/10], step: [201/625], Loss: 1.008474\n",
      "Epoch: [9/10], step: [401/625], Loss: 0.996534\n",
      "Epoch: [9/10], step: [601/625], Loss: 0.975640\n",
      "\n",
      "Test: Epoch 9 Loss: 0.9042773\n",
      "X: 7799+7446$\n",
      "Y: 15245$\n",
      "O: 15273$\n",
      "\n",
      "X: 9037-3723$\n",
      "Y: 5314$#\n",
      "O: 5290$^\n",
      "\n",
      "X: 5020-636$#\n",
      "Y: 4384$#\n",
      "O: 4390$^\n",
      "\n",
      "Train: Epoch 10\n",
      "Epoch: [10/10], step: [1/625], Loss: 1.008391\n",
      "Epoch: [10/10], step: [201/625], Loss: 0.995148\n",
      "Epoch: [10/10], step: [401/625], Loss: 0.914778\n",
      "Epoch: [10/10], step: [601/625], Loss: 0.919871\n",
      "\n",
      "Test: Epoch 10 Loss: 0.90391934\n",
      "X: 4458-3132$\n",
      "Y: 1326$#\n",
      "O: 1348$^\n",
      "\n",
      "X: 9623-2882$\n",
      "Y: 6741$#\n",
      "O: 6762$^\n",
      "\n",
      "X: 7811+2736$\n",
      "Y: 10547$\n",
      "O: 10578$\n",
      "\n",
      "\n",
      "...training finished.\n"
     ]
    }
   ],
   "source": [
    "session = tf.Session()\n",
    "session.run(tf.global_variables_initializer())\n",
    "            \n",
    "invalid_number_prediction_counts = []\n",
    "all_model_predictions = []\n",
    "all_ground_truth = []\n",
    "\n",
    "print('Start training... \\n')\n",
    "for epoch in range(n_epochs):  \n",
    "    random.shuffle(train_set)\n",
    "    random.shuffle(test_set)\n",
    "    \n",
    "    #clear_output()\n",
    "    print('Train: Epoch', epoch + 1)\n",
    "    for n_iter, (X_batch, Y_batch) in enumerate(generate_batches(train_set, batch_size=batch_size)):\n",
    "        \n",
    "        x, x_len = batch_to_ids(X_batch, word2id, max_len=max_len)\n",
    "        y, y_len = batch_to_ids(Y_batch, word2id, max_len=max_len)\n",
    "        \n",
    "        # prepare the data (X_batch and Y_batch) for training\n",
    "        # using function batch_to_ids\n",
    "        predictions, loss = model.train_on_batch(session=session,\n",
    "                                                 X=x, Y=y,\n",
    "                                                 X_seq_len=x_len,\n",
    "                                                 Y_seq_len=y_len,\n",
    "                                                 learning_rate=learning_rate,\n",
    "                                                 dropout_keep_probability=dropout_keep_probability)\n",
    "        \n",
    "        \n",
    "        if n_iter % 200 == 0:\n",
    "            print(\"Epoch: [%d/%d], step: [%d/%d], Loss: %f\" % (epoch + 1, n_epochs, n_iter + 1, n_step, loss))\n",
    "                \n",
    "    X_sent, Y_sent = next(generate_batches(test_set, batch_size=batch_size))\n",
    "    \n",
    "    X, X_sent_lens = batch_to_ids(X_sent, word2id, max_len=max_len)\n",
    "    Y, Y_sent_lens = batch_to_ids(Y_sent, word2id, max_len=max_len)\n",
    "    \n",
    "    # prepare test data (X_sent and Y_sent) for predicting \n",
    "    # quality and computing value of the loss function\n",
    "    # using function batch_to_ids\n",
    "    \n",
    "    predictions, loss = model.predict_for_batch_with_loss(session, X, X_sent_lens, Y, Y_sent_lens)\n",
    "    \n",
    "    print('\\nTest: Epoch', epoch + 1, 'Loss:', loss,)\n",
    "    for x, y, p  in list(zip(X, Y, predictions))[:3]:\n",
    "        print('X:',''.join(ids_to_sentence(x, id2word)))\n",
    "        print('Y:',''.join(ids_to_sentence(y, id2word)))\n",
    "        print('O:',''.join(ids_to_sentence(p, id2word)))\n",
    "        print('')\n",
    "\n",
    "    model_predictions = []\n",
    "    ground_truth = []\n",
    "    invalid_number_prediction_count = 0\n",
    "    \n",
    "    # For the whole test set calculate ground-truth values (as integer numbers)\n",
    "    # and prediction values (also as integers) to calculate metrics.\n",
    "    # If generated by model number is not correct (e.g. '1-1'), \n",
    "    # increase invalid_number_prediction_count and don't append this and corresponding\n",
    "    # ground-truth value to the arrays.\n",
    "    \n",
    "    for X_batch, Y_batch in generate_batches(test_set, batch_size=batch_size):\n",
    "        \n",
    "        X, X_len = batch_to_ids(X_batch, word2id, max_len=max_len)\n",
    "        Y, Y_len = batch_to_ids(Y_batch, word2id, max_len=max_len)\n",
    "        predictions = model.predict_for_batch(session, X, X_len)\n",
    "        \n",
    "        for Y_true, Y_pred in zip(Y, predictions):\n",
    "            \n",
    "            try:\n",
    "                end_token = '$'\n",
    "                Y_true, Y_pred = ''.join(ids_to_sentence(Y_true, id2word)), ''.join(ids_to_sentence(Y_pred, id2word))\n",
    "                Y_true, Y_pred = Y_true[:Y_true.find(end_token)], Y_pred[:Y_pred.find(end_token)]\n",
    "                model_predictions.append(int(Y_pred))\n",
    "                ground_truth.append(int(Y_true))\n",
    "                \n",
    "            except:\n",
    "                invalid_number_prediction_count = invalid_number_prediction_count + 1\n",
    "    \n",
    "    # Final results\n",
    "    all_model_predictions.append(model_predictions)\n",
    "    all_ground_truth.append(ground_truth)\n",
    "    invalid_number_prediction_counts.append(invalid_number_prediction_count)\n",
    "            \n",
    "print('\\n...training finished.')"
   ]
  },
  {
   "cell_type": "markdown",
   "metadata": {},
   "source": [
    "### Evaluate results\n",
    "\n",
    "Because our task is simple and the output is straight-forward, we will use [MAE](https://en.wikipedia.org/wiki/Mean_absolute_error) metric to evaluate the trained model during the epochs. Compute the value of the metric for the output from each epoch."
   ]
  },
  {
   "cell_type": "code",
   "execution_count": 46,
   "metadata": {},
   "outputs": [],
   "source": [
    "from sklearn.metrics import mean_absolute_error\n",
    "import numpy as np"
   ]
  },
  {
   "cell_type": "code",
   "execution_count": 47,
   "metadata": {},
   "outputs": [
    {
     "name": "stdout",
     "output_type": "stream",
     "text": [
      "Epoch: 1, MAE: 898.492500, Invalid numbers: 0\n",
      "Epoch: 2, MAE: 356.329950, Invalid numbers: 0\n",
      "Epoch: 3, MAE: 265.769850, Invalid numbers: 0\n",
      "Epoch: 4, MAE: 191.449850, Invalid numbers: 0\n",
      "Epoch: 5, MAE: 169.132500, Invalid numbers: 0\n",
      "Epoch: 6, MAE: 86.551100, Invalid numbers: 0\n",
      "Epoch: 7, MAE: 51.903550, Invalid numbers: 0\n",
      "Epoch: 8, MAE: 41.323050, Invalid numbers: 0\n",
      "Epoch: 9, MAE: 36.731400, Invalid numbers: 0\n",
      "Epoch: 10, MAE: 30.750550, Invalid numbers: 0\n"
     ]
    }
   ],
   "source": [
    "for i, (gts, predictions, invalid_number_prediction_count) in enumerate(zip(all_ground_truth,\n",
    "                                                                            all_model_predictions,\n",
    "                                                                            invalid_number_prediction_counts), 1):\n",
    "    mae = mean_absolute_error(gts, predictions)\n",
    "    print(\"Epoch: %i, MAE: %f, Invalid numbers: %i\" % (i, mae, invalid_number_prediction_count))"
   ]
  },
  {
   "cell_type": "markdown",
   "metadata": {},
   "source": [
    "### b) Experiment 2: Increased number of epochs (from 10 $\\rightarrow$ 20)"
   ]
  },
  {
   "cell_type": "code",
   "execution_count": 48,
   "metadata": {},
   "outputs": [
    {
     "name": "stdout",
     "output_type": "stream",
     "text": [
      "Start training... \n",
      "\n",
      "Train: Epoch 1\n",
      "Epoch: [1/15], step: [1/625], Loss: 2.724451\n",
      "Epoch: [1/15], step: [201/625], Loss: 1.811016\n",
      "Epoch: [1/15], step: [401/625], Loss: 1.759198\n",
      "Epoch: [1/15], step: [601/625], Loss: 1.613299\n",
      "\n",
      "Test: Epoch 1 Loss: 1.547337\n",
      "X: 6291+6891$\n",
      "Y: 13182$\n",
      "O: 13444$\n",
      "\n",
      "X: 8806-7365$\n",
      "Y: 1441$#\n",
      "O: 291$^^\n",
      "\n",
      "X: 9339-9084$\n",
      "Y: 255$##\n",
      "O: -111$^\n",
      "\n",
      "Train: Epoch 2\n",
      "Epoch: [2/15], step: [1/625], Loss: 1.622361\n",
      "Epoch: [2/15], step: [201/625], Loss: 1.594321\n",
      "Epoch: [2/15], step: [401/625], Loss: 1.530087\n",
      "Epoch: [2/15], step: [601/625], Loss: 1.444790\n",
      "\n",
      "Test: Epoch 2 Loss: 1.4166306\n",
      "X: 9625-6927$\n",
      "Y: 2698$#\n",
      "O: 2664$^\n",
      "\n",
      "X: 3986+329$#\n",
      "Y: 4315$#\n",
      "O: 4777$^\n",
      "\n",
      "X: 2240-1296$\n",
      "Y: 944$##\n",
      "O: 156$^^\n",
      "\n",
      "Train: Epoch 3\n",
      "Epoch: [3/15], step: [1/625], Loss: 1.434166\n",
      "Epoch: [3/15], step: [201/625], Loss: 1.469602\n",
      "Epoch: [3/15], step: [401/625], Loss: 1.431933\n",
      "Epoch: [3/15], step: [601/625], Loss: 1.383930\n",
      "\n",
      "Test: Epoch 3 Loss: 1.3453025\n",
      "X: 7798+7453$\n",
      "Y: 15251$\n",
      "O: 14844$\n",
      "\n",
      "X: 5313-2732$\n",
      "Y: 2581$#\n",
      "O: 2434$^\n",
      "\n",
      "X: 9046+5060$\n",
      "Y: 14106$\n",
      "O: 14444$\n",
      "\n",
      "Train: Epoch 4\n",
      "Epoch: [4/15], step: [1/625], Loss: 1.419930\n",
      "Epoch: [4/15], step: [201/625], Loss: 1.378321\n",
      "Epoch: [4/15], step: [401/625], Loss: 1.356270\n",
      "Epoch: [4/15], step: [601/625], Loss: 1.367020\n",
      "\n",
      "Test: Epoch 4 Loss: 1.2897093\n",
      "X: 3528-9201$\n",
      "Y: -5673$\n",
      "O: -5622$\n",
      "\n",
      "X: 3813-6769$\n",
      "Y: -2956$\n",
      "O: -2977$\n",
      "\n",
      "X: 240+741$##\n",
      "Y: 981$##\n",
      "O: 1011$^\n",
      "\n",
      "Train: Epoch 5\n",
      "Epoch: [5/15], step: [1/625], Loss: 1.344751\n",
      "Epoch: [5/15], step: [201/625], Loss: 1.350050\n",
      "Epoch: [5/15], step: [401/625], Loss: 1.330557\n",
      "Epoch: [5/15], step: [601/625], Loss: 1.279061\n",
      "\n",
      "Test: Epoch 5 Loss: 1.2480857\n",
      "X: 5365-9351$\n",
      "Y: -3986$\n",
      "O: -3779$\n",
      "\n",
      "X: 540-5797$#\n",
      "Y: -5257$\n",
      "O: -5338$\n",
      "\n",
      "X: 9516-1716$\n",
      "Y: 7800$#\n",
      "O: 7769$^\n",
      "\n",
      "Train: Epoch 6\n",
      "Epoch: [6/15], step: [1/625], Loss: 1.295587\n",
      "Epoch: [6/15], step: [201/625], Loss: 1.303911\n",
      "Epoch: [6/15], step: [401/625], Loss: 1.254491\n",
      "Epoch: [6/15], step: [601/625], Loss: 1.238787\n",
      "\n",
      "Test: Epoch 6 Loss: 1.2496026\n",
      "X: 566+2773$#\n",
      "Y: 3339$#\n",
      "O: 3370$^\n",
      "\n",
      "X: 7876+5005$\n",
      "Y: 12881$\n",
      "O: 12934$\n",
      "\n",
      "X: 6966+1836$\n",
      "Y: 8802$#\n",
      "O: 8663$^\n",
      "\n",
      "Train: Epoch 7\n",
      "Epoch: [7/15], step: [1/625], Loss: 1.221697\n",
      "Epoch: [7/15], step: [201/625], Loss: 1.253289\n",
      "Epoch: [7/15], step: [401/625], Loss: 1.231552\n",
      "Epoch: [7/15], step: [601/625], Loss: 1.120712\n",
      "\n",
      "Test: Epoch 7 Loss: 1.0966283\n",
      "X: 9897+4988$\n",
      "Y: 14885$\n",
      "O: 14903$\n",
      "\n",
      "X: 3616+6048$\n",
      "Y: 9664$#\n",
      "O: 9691$^\n",
      "\n",
      "X: 1405-328$#\n",
      "Y: 1077$#\n",
      "O: 1055$^\n",
      "\n",
      "Train: Epoch 8\n",
      "Epoch: [8/15], step: [1/625], Loss: 1.135728\n",
      "Epoch: [8/15], step: [201/625], Loss: 1.089969\n",
      "Epoch: [8/15], step: [401/625], Loss: 1.026663\n",
      "Epoch: [8/15], step: [601/625], Loss: 1.064306\n",
      "\n",
      "Test: Epoch 8 Loss: 0.9716852\n",
      "X: 9028-1011$\n",
      "Y: 8017$#\n",
      "O: 7977$^\n",
      "\n",
      "X: 1211-6221$\n",
      "Y: -5010$\n",
      "O: -4937$\n",
      "\n",
      "X: 4664+7339$\n",
      "Y: 12003$\n",
      "O: 11977$\n",
      "\n",
      "Train: Epoch 9\n",
      "Epoch: [9/15], step: [1/625], Loss: 1.013563\n",
      "Epoch: [9/15], step: [201/625], Loss: 1.022120\n",
      "Epoch: [9/15], step: [401/625], Loss: 1.039284\n",
      "Epoch: [9/15], step: [601/625], Loss: 0.982753\n",
      "\n",
      "Test: Epoch 9 Loss: 0.9576398\n",
      "X: 7979+2058$\n",
      "Y: 10037$\n",
      "O: 9999$^\n",
      "\n",
      "X: 5493+8555$\n",
      "Y: 14048$\n",
      "O: 14041$\n",
      "\n",
      "X: 5980+9999$\n",
      "Y: 15979$\n",
      "O: 15901$\n",
      "\n",
      "Train: Epoch 10\n",
      "Epoch: [10/15], step: [1/625], Loss: 0.943163\n",
      "Epoch: [10/15], step: [201/625], Loss: 0.951385\n",
      "Epoch: [10/15], step: [401/625], Loss: 0.982069\n",
      "Epoch: [10/15], step: [601/625], Loss: 0.922235\n",
      "\n",
      "Test: Epoch 10 Loss: 0.9006135\n",
      "X: 2924+8059$\n",
      "Y: 10983$\n",
      "O: 11000$\n",
      "\n",
      "X: 2170-8964$\n",
      "Y: -6794$\n",
      "O: -6755$\n",
      "\n",
      "X: 7594+8869$\n",
      "Y: 16463$\n",
      "O: 16465$\n",
      "\n",
      "Train: Epoch 11\n",
      "Epoch: [11/15], step: [1/625], Loss: 0.950405\n",
      "Epoch: [11/15], step: [201/625], Loss: 0.926337\n",
      "Epoch: [11/15], step: [401/625], Loss: 0.948932\n",
      "Epoch: [11/15], step: [601/625], Loss: 0.912095\n",
      "\n",
      "Test: Epoch 11 Loss: 0.8746678\n",
      "X: 4516-6135$\n",
      "Y: -1619$\n",
      "O: -1552$\n",
      "\n",
      "X: 6395-7545$\n",
      "Y: -1150$\n",
      "O: -1127$\n",
      "\n",
      "X: 6340+4655$\n",
      "Y: 10995$\n",
      "O: 11022$\n",
      "\n",
      "Train: Epoch 12\n",
      "Epoch: [12/15], step: [1/625], Loss: 0.949304\n",
      "Epoch: [12/15], step: [201/625], Loss: 0.930314\n",
      "Epoch: [12/15], step: [401/625], Loss: 0.903183\n",
      "Epoch: [12/15], step: [601/625], Loss: 0.945915\n",
      "\n",
      "Test: Epoch 12 Loss: 0.85299844\n",
      "X: 6659-5584$\n",
      "Y: 1075$#\n",
      "O: 1059$^\n",
      "\n",
      "X: 1980-3914$\n",
      "Y: -1934$\n",
      "O: -1947$\n",
      "\n",
      "X: 7297+6816$\n",
      "Y: 14113$\n",
      "O: 14090$\n",
      "\n",
      "Train: Epoch 13\n",
      "Epoch: [13/15], step: [1/625], Loss: 0.830273\n",
      "Epoch: [13/15], step: [201/625], Loss: 0.849268\n",
      "Epoch: [13/15], step: [401/625], Loss: 0.785051\n",
      "Epoch: [13/15], step: [601/625], Loss: 0.785061\n",
      "\n",
      "Test: Epoch 13 Loss: 0.68081295\n",
      "X: 3148+7694$\n",
      "Y: 10842$\n",
      "O: 10830$\n",
      "\n",
      "X: 2948+1383$\n",
      "Y: 4331$#\n",
      "O: 4327$^\n",
      "\n",
      "X: 9215-8901$\n",
      "Y: 314$##\n",
      "O: 301$^^\n",
      "\n",
      "Train: Epoch 14\n",
      "Epoch: [14/15], step: [1/625], Loss: 0.743921\n",
      "Epoch: [14/15], step: [201/625], Loss: 0.697183\n",
      "Epoch: [14/15], step: [401/625], Loss: 0.658751\n",
      "Epoch: [14/15], step: [601/625], Loss: 0.710353\n",
      "\n",
      "Test: Epoch 14 Loss: 0.6647637\n",
      "X: 5707+8577$\n",
      "Y: 14284$\n",
      "O: 14285$\n",
      "\n",
      "X: 2701+3595$\n",
      "Y: 6296$#\n",
      "O: 6300$^\n",
      "\n",
      "X: 5712+1695$\n",
      "Y: 7407$#\n",
      "O: 7410$^\n",
      "\n",
      "Train: Epoch 15\n",
      "Epoch: [15/15], step: [1/625], Loss: 0.617253\n",
      "Epoch: [15/15], step: [201/625], Loss: 0.684100\n",
      "Epoch: [15/15], step: [401/625], Loss: 0.672239\n",
      "Epoch: [15/15], step: [601/625], Loss: 0.617430\n",
      "\n",
      "Test: Epoch 15 Loss: 0.58340406\n",
      "X: 8088+3924$\n",
      "Y: 12012$\n",
      "O: 12008$\n",
      "\n",
      "X: 4568-69$##\n",
      "Y: 4499$#\n",
      "O: 4492$^\n",
      "\n",
      "X: 779-8686$#\n",
      "Y: -7907$\n",
      "O: -7909$\n",
      "\n",
      "\n",
      "...training finished.\n"
     ]
    }
   ],
   "source": [
    "### HYPERPARAMETERS\n",
    "\n",
    "tf.reset_default_graph()\n",
    "\n",
    "model = Seq2SeqModel(vocab_size=len(word2id),\n",
    "                     embeddings_size=20,\n",
    "                     max_iter=7,\n",
    "                     hidden_size=512,\n",
    "                     start_symbol_id=word2id['^'],\n",
    "                     end_symbol_id=word2id['$'],\n",
    "                     padding_symbol_id=word2id['#'])\n",
    "\n",
    "batch_size = 128\n",
    "n_epochs = 15\n",
    "learning_rate = 0.001\n",
    "dropout_keep_probability = 0.5\n",
    "max_len = 20\n",
    "\n",
    "n_step = int(len(train_set) / batch_size)\n",
    "\n",
    "### TRAINING\n",
    "\n",
    "session = tf.Session()\n",
    "session.run(tf.global_variables_initializer())\n",
    "            \n",
    "invalid_number_prediction_counts = []\n",
    "all_model_predictions = []\n",
    "all_ground_truth = []\n",
    "\n",
    "print('Start training... \\n')\n",
    "for epoch in range(n_epochs):  \n",
    "    random.shuffle(train_set)\n",
    "    random.shuffle(test_set)\n",
    "    \n",
    "    #clear_output()\n",
    "    print('Train: Epoch', epoch + 1)\n",
    "    for n_iter, (X_batch, Y_batch) in enumerate(generate_batches(train_set, batch_size=batch_size)):\n",
    "        \n",
    "        x, x_len = batch_to_ids(X_batch, word2id, max_len=max_len)\n",
    "        y, y_len = batch_to_ids(Y_batch, word2id, max_len=max_len)\n",
    "        \n",
    "        # prepare the data (X_batch and Y_batch) for training\n",
    "        # using function batch_to_ids\n",
    "        predictions, loss = model.train_on_batch(session=session,\n",
    "                                                 X=x, Y=y,\n",
    "                                                 X_seq_len=x_len,\n",
    "                                                 Y_seq_len=y_len,\n",
    "                                                 learning_rate=learning_rate,\n",
    "                                                 dropout_keep_probability=dropout_keep_probability)\n",
    "        \n",
    "        \n",
    "        if n_iter % 200 == 0:\n",
    "            print(\"Epoch: [%d/%d], step: [%d/%d], Loss: %f\" % (epoch + 1, n_epochs, n_iter + 1, n_step, loss))\n",
    "                \n",
    "    X_sent, Y_sent = next(generate_batches(test_set, batch_size=batch_size))\n",
    "    \n",
    "    X, X_sent_lens = batch_to_ids(X_sent, word2id, max_len=max_len)\n",
    "    Y, Y_sent_lens = batch_to_ids(Y_sent, word2id, max_len=max_len)\n",
    "    \n",
    "    # prepare test data (X_sent and Y_sent) for predicting \n",
    "    # quality and computing value of the loss function\n",
    "    # using function batch_to_ids\n",
    "    \n",
    "    predictions, loss = model.predict_for_batch_with_loss(session, X, X_sent_lens, Y, Y_sent_lens)\n",
    "    \n",
    "    print('\\nTest: Epoch', epoch + 1, 'Loss:', loss,)\n",
    "    for x, y, p  in list(zip(X, Y, predictions))[:3]:\n",
    "        print('X:',''.join(ids_to_sentence(x, id2word)))\n",
    "        print('Y:',''.join(ids_to_sentence(y, id2word)))\n",
    "        print('O:',''.join(ids_to_sentence(p, id2word)))\n",
    "        print('')\n",
    "\n",
    "    model_predictions = []\n",
    "    ground_truth = []\n",
    "    invalid_number_prediction_count = 0\n",
    "    \n",
    "    # For the whole test set calculate ground-truth values (as integer numbers)\n",
    "    # and prediction values (also as integers) to calculate metrics.\n",
    "    # If generated by model number is not correct (e.g. '1-1'), \n",
    "    # increase invalid_number_prediction_count and don't append this and corresponding\n",
    "    # ground-truth value to the arrays.\n",
    "    \n",
    "    for X_batch, Y_batch in generate_batches(test_set, batch_size=batch_size):\n",
    "        \n",
    "        X, X_len = batch_to_ids(X_batch, word2id, max_len=max_len)\n",
    "        Y, Y_len = batch_to_ids(Y_batch, word2id, max_len=max_len)\n",
    "        predictions = model.predict_for_batch(session, X, X_len)\n",
    "        \n",
    "        for Y_true, Y_pred in zip(Y, predictions):\n",
    "            \n",
    "            try:\n",
    "                end_token = '$'\n",
    "                Y_true, Y_pred = ''.join(ids_to_sentence(Y_true, id2word)), ''.join(ids_to_sentence(Y_pred, id2word))\n",
    "                Y_true, Y_pred = Y_true[:Y_true.find(end_token)], Y_pred[:Y_pred.find(end_token)]\n",
    "                model_predictions.append(int(Y_pred))\n",
    "                ground_truth.append(int(Y_true))\n",
    "                \n",
    "            except:\n",
    "                invalid_number_prediction_count = invalid_number_prediction_count + 1\n",
    "    \n",
    "    # Final results\n",
    "    all_model_predictions.append(model_predictions)\n",
    "    all_ground_truth.append(ground_truth)\n",
    "    invalid_number_prediction_counts.append(invalid_number_prediction_count)\n",
    "            \n",
    "print('\\n...training finished.')"
   ]
  },
  {
   "cell_type": "code",
   "execution_count": 49,
   "metadata": {},
   "outputs": [
    {
     "name": "stdout",
     "output_type": "stream",
     "text": [
      "Epoch: 1, MAE: 800.659400, Invalid numbers: 0\n",
      "Epoch: 2, MAE: 455.057000, Invalid numbers: 0\n",
      "Epoch: 3, MAE: 277.432500, Invalid numbers: 0\n",
      "Epoch: 4, MAE: 227.250950, Invalid numbers: 0\n",
      "Epoch: 5, MAE: 177.821150, Invalid numbers: 0\n",
      "Epoch: 6, MAE: 136.407250, Invalid numbers: 0\n",
      "Epoch: 7, MAE: 80.121300, Invalid numbers: 0\n",
      "Epoch: 8, MAE: 50.433600, Invalid numbers: 0\n",
      "Epoch: 9, MAE: 40.366700, Invalid numbers: 0\n",
      "Epoch: 10, MAE: 35.403200, Invalid numbers: 0\n",
      "Epoch: 11, MAE: 28.652350, Invalid numbers: 0\n",
      "Epoch: 12, MAE: 28.606950, Invalid numbers: 0\n",
      "Epoch: 13, MAE: 21.873500, Invalid numbers: 0\n",
      "Epoch: 14, MAE: 33.091600, Invalid numbers: 0\n",
      "Epoch: 15, MAE: 21.957800, Invalid numbers: 0\n"
     ]
    }
   ],
   "source": [
    "### RESULTS\n",
    "for i, (gts, predictions, invalid_number_prediction_count) in enumerate(zip(all_ground_truth,\n",
    "                                                                            all_model_predictions,\n",
    "                                                                            invalid_number_prediction_counts), 1):\n",
    "    mae = mean_absolute_error(gts, predictions)\n",
    "    print(\"Epoch: %i, MAE: %f, Invalid numbers: %i\" % (i, mae, invalid_number_prediction_count))"
   ]
  }
 ],
 "metadata": {
  "kernelspec": {
   "display_name": "Python 3",
   "language": "python",
   "name": "python3"
  },
  "language_info": {
   "codemirror_mode": {
    "name": "ipython",
    "version": 3
   },
   "file_extension": ".py",
   "mimetype": "text/x-python",
   "name": "python",
   "nbconvert_exporter": "python",
   "pygments_lexer": "ipython3",
   "version": "3.6.4"
  }
 },
 "nbformat": 4,
 "nbformat_minor": 2
}
