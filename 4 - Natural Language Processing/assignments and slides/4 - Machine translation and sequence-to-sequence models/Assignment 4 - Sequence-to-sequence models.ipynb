{
 "cells": [
  {
   "cell_type": "markdown",
   "metadata": {},
   "source": [
    "# Programming assignment 4: Learn to calculate with seq2seq model\n",
    "\n",
    "In this assignment, you will learn how to use neural networks to solve sequence-to-sequence prediction tasks. Seq2Seq models are very popular these days because they achieve great results in Machine Translation, Text Summarization, Conversational Modeling and more.\n",
    "\n",
    "Using sequence-to-sequence modeling you are going to build a calculator for evaluating arithmetic expressions, by taking an equation as an input to the neural network and producing an answer as it's output.\n",
    "\n",
    "The resulting solution for this problem will be based on state-of-the-art approaches for sequence-to-sequence learning and you should be able to easily adapt it to solve other tasks. However, if you want to train your own machine translation system or intellectual chat bot, it would be useful to have access to compute resources like GPU, and be patient, because training of such systems is usually time consuming. \n",
    "\n",
    "### Libraries\n",
    "\n",
    "For this task you will need the following libraries:\n",
    " - [TensorFlow](https://www.tensorflow.org) — an open-source software library for Machine Intelligence.\n",
    " - [scikit-learn](http://scikit-learn.org/stable/index.html) — a tool for data mining and data analysis.\n",
    " \n",
    "If you have never worked with TensorFlow, you will probably want to read some tutorials during your work on this assignment, e.g. [Neural Machine Translation](https://www.tensorflow.org/tutorials/seq2seq) tutorial deals with very similar task and can explain some concepts to you. "
   ]
  },
  {
   "cell_type": "markdown",
   "metadata": {},
   "source": [
    "## 1. Data\n",
    "\n",
    "One benefit of this task is that you don't need to download any data — you will generate it on your own! We will use two operators (addition and subtraction) and work with positive integer numbers in some range. Here are examples of correct inputs and outputs:\n",
    "\n",
    "    Input: '1+2'\n",
    "    Output: '3'\n",
    "    \n",
    "    Input: '0-99'\n",
    "    Output: '-99'\n",
    "\n",
    "*Note, that there are no spaces between operators and operands.*\n",
    "\n",
    "\n",
    "Now you need to implement the function *generate_equations*, which will be used to generate the data."
   ]
  },
  {
   "cell_type": "code",
   "execution_count": 1,
   "metadata": {},
   "outputs": [],
   "source": [
    "import random"
   ]
  },
  {
   "cell_type": "code",
   "execution_count": 2,
   "metadata": {},
   "outputs": [],
   "source": [
    "def generate_equations(allowed_operators, dataset_size, min_value, max_value):\n",
    "    \"\"\"Generates pairs of equations and solutions to them.\n",
    "    \n",
    "       Each equation has a form of two integers with an operator in between.\n",
    "       Each solution is an integer with the result of the operaion.\n",
    "    \n",
    "        allowed_operators: list of strings, allowed operators.\n",
    "        dataset_size: an integer, number of equations to be generated.\n",
    "        min_value: an integer, min value of each operand.\n",
    "        max_value: an integer, max value of each operand.\n",
    "\n",
    "        result: a list of tuples of strings (equation, solution).\n",
    "    \"\"\"\n",
    "    # x operation y = z\n",
    "    sample = []\n",
    "    for _ in range(dataset_size):\n",
    "        \n",
    "        # Equation\n",
    "        x = random.randint(min_value, max_value)\n",
    "        y = random.randint(min_value, max_value)\n",
    "        operation = random.choice(allowed_operators)\n",
    "        equation = str(x)+str(operation)+str(y)\n",
    "        \n",
    "        # Solution\n",
    "        if operation == '+':\n",
    "            z = str(x + y)\n",
    "        elif operation == '-':\n",
    "            z = str(x - y)\n",
    "        \n",
    "        sample.append((equation, z))\n",
    "    return sample"
   ]
  },
  {
   "cell_type": "code",
   "execution_count": 3,
   "metadata": {},
   "outputs": [
    {
     "data": {
      "text/plain": [
       "[('9-3', '6'),\n",
       " ('3+3', '6'),\n",
       " ('1-9', '-8'),\n",
       " ('2+5', '7'),\n",
       " ('2+6', '8'),\n",
       " ('4-6', '-2'),\n",
       " ('6-10', '-4'),\n",
       " ('6+7', '13')]"
      ]
     },
     "execution_count": 3,
     "metadata": {},
     "output_type": "execute_result"
    }
   ],
   "source": [
    "generate_equations(allowed_operators=['+','-'], dataset_size=8,\n",
    "                   min_value=1, max_value=10)"
   ]
  },
  {
   "cell_type": "markdown",
   "metadata": {},
   "source": [
    "To check the correctness of your implementation, use *test_generate_equations* function:"
   ]
  },
  {
   "cell_type": "code",
   "execution_count": 4,
   "metadata": {},
   "outputs": [],
   "source": [
    "def test_generate_equations():\n",
    "    allowed_operators = ['+', '-']\n",
    "    dataset_size = 10\n",
    "    for (input_, output_) in generate_equations(allowed_operators, dataset_size, 0, 100):\n",
    "        if not (type(input_) is str and type(output_) is str):\n",
    "            return \"Both parts should be strings.\"\n",
    "        if eval(input_) != int(output_):\n",
    "            return \"The (equation: {!r}, solution: {!r}) pair is incorrect.\".format(input_, output_)\n",
    "    return \"Tests passed.\""
   ]
  },
  {
   "cell_type": "code",
   "execution_count": 5,
   "metadata": {},
   "outputs": [
    {
     "name": "stdout",
     "output_type": "stream",
     "text": [
      "Tests passed.\n"
     ]
    }
   ],
   "source": [
    "print(test_generate_equations())"
   ]
  },
  {
   "cell_type": "markdown",
   "metadata": {},
   "source": [
    "Finally, we are ready to generate the train and test data for the neural network:"
   ]
  },
  {
   "cell_type": "code",
   "execution_count": 6,
   "metadata": {},
   "outputs": [],
   "source": [
    "from sklearn.model_selection import train_test_split"
   ]
  },
  {
   "cell_type": "code",
   "execution_count": 7,
   "metadata": {},
   "outputs": [],
   "source": [
    "allowed_operators = ['+', '-']\n",
    "dataset_size = 100000\n",
    "data = generate_equations(allowed_operators, dataset_size, min_value=0, max_value=9999)\n",
    "\n",
    "train_set, test_set = train_test_split(data, test_size=0.2, random_state=42)"
   ]
  },
  {
   "cell_type": "markdown",
   "metadata": {},
   "source": [
    "## 2. Prepare data for the neural network\n",
    "\n",
    "The next stage of data preparation is creating mappings of the characters to their indices in some vocabulary. Since in our task we already know which symbols will appear in the inputs and outputs, generating the vocabulary is a simple step.\n",
    "\n",
    "### How to create dictionaries for other task\n",
    "\n",
    "First of all, you need to understand what is the basic unit of the sequence in your task. In our case, we operate on symbols and the basic unit is a symbol. The number of symbols is small, so we don't need to think about filtering/normalization steps. However, in other tasks, the basic unit is often a word, and in this case the mapping would be *word $\\to$ integer*. The number of words might be huge, so it would be reasonable to filter them, for example, by frequency and leave only the frequent ones. Other strategies that your should consider are: data normalization (lowercasing, tokenization, how to consider punctuation marks), separate vocabulary for input and for output (e.g. for machine translation), some specifics of the task."
   ]
  },
  {
   "cell_type": "code",
   "execution_count": 8,
   "metadata": {},
   "outputs": [],
   "source": [
    "word2id = {symbol:i for i, symbol in enumerate('^$#+-1234567890')}\n",
    "id2word = {i:symbol for symbol, i in word2id.items()}"
   ]
  },
  {
   "cell_type": "markdown",
   "metadata": {},
   "source": [
    "### Special symbols"
   ]
  },
  {
   "cell_type": "code",
   "execution_count": 9,
   "metadata": {},
   "outputs": [],
   "source": [
    "start_symbol = '^'\n",
    "end_symbol = '$'\n",
    "padding_symbol = '#'"
   ]
  },
  {
   "cell_type": "markdown",
   "metadata": {},
   "source": [
    "You could notice that we have added 3 special symbols: '^', '\\$' and '#':\n",
    "- '^' symbol will be passed to the network to indicate the beginning of the decoding procedure. We will discuss this one later in more details.\n",
    "- '\\$' symbol will be used to indicate the *end of a string*, both for input and output sequences. \n",
    "- '#' symbol will be used as a *padding* character to make lengths of all strings equal within one training batch.\n",
    "\n",
    "People have a bit different habits when it comes to special symbols in encoder-decoder networks, so don't get too much confused if you come across other variants in tutorials you read. "
   ]
  },
  {
   "cell_type": "markdown",
   "metadata": {},
   "source": [
    "### Padding"
   ]
  },
  {
   "cell_type": "markdown",
   "metadata": {},
   "source": [
    "When vocabularies are ready, we need to be able to convert a sentence to a list of vocabulary word indices and back. At the same time, let's care about padding. We are going to preprocess each sequence from the input (and output ground truth) in such a way that:\n",
    "- it has a predefined length *padded_len*\n",
    "- it is probably cut off or padded with the *padding symbol* '#'\n",
    "- it *always* ends with the *end symbol* '$'\n",
    "\n",
    "We will treat the original characters of the sequence **and the end symbol** as the valid part of the input. We will store *the actual length* of the sequence, which includes the end symbol, but does not include the padding symbols. "
   ]
  },
  {
   "cell_type": "markdown",
   "metadata": {},
   "source": [
    " Now you need to implement the function *sentence_to_ids* that does the described job. "
   ]
  },
  {
   "cell_type": "code",
   "execution_count": 10,
   "metadata": {},
   "outputs": [],
   "source": [
    "def sentence_to_ids(sentence, word2id, padded_len):\n",
    "    \"\"\" Converts a sequence of symbols to a padded sequence of their ids.\n",
    "    \n",
    "      sentence: a string, input/output sequence of symbols.\n",
    "      word2id: a dict, a mapping from original symbols to ids.\n",
    "      padded_len: an integer, a desirable length of the sequence.\n",
    "\n",
    "      result: a tuple of (a list of ids, an actual length of sentence).\n",
    "    \"\"\"\n",
    "    \n",
    "    sent_ids = [word2id[i] for i in sentence]\n",
    "    sent_len = len(sent_ids[:padded_len-1])+1\n",
    "    paddings_to_be_added = padded_len-len(sent_ids)-1\n",
    "    \n",
    "    sent_ids = sent_ids[:padded_len-1]\n",
    "    sent_ids += [word2id['$']]\n",
    "    sent_ids += [word2id['#']] * paddings_to_be_added\n",
    "    \n",
    "    return sent_ids, sent_len"
   ]
  },
  {
   "cell_type": "code",
   "execution_count": 11,
   "metadata": {},
   "outputs": [
    {
     "data": {
      "text/plain": [
       "{'#': 2,\n",
       " '$': 1,\n",
       " '+': 3,\n",
       " '-': 4,\n",
       " '0': 14,\n",
       " '1': 5,\n",
       " '2': 6,\n",
       " '3': 7,\n",
       " '4': 8,\n",
       " '5': 9,\n",
       " '6': 10,\n",
       " '7': 11,\n",
       " '8': 12,\n",
       " '9': 13,\n",
       " '^': 0}"
      ]
     },
     "execution_count": 11,
     "metadata": {},
     "output_type": "execute_result"
    }
   ],
   "source": [
    "word2id"
   ]
  },
  {
   "cell_type": "code",
   "execution_count": 12,
   "metadata": {},
   "outputs": [
    {
     "data": {
      "text/plain": [
       "([5, 6, 7, 3, 5, 6, 7, 1, 2, 2, 2, 2], 8)"
      ]
     },
     "execution_count": 12,
     "metadata": {},
     "output_type": "execute_result"
    }
   ],
   "source": [
    "sentence_to_ids(sentence=(\"123+123\"), word2id=word2id,\n",
    "                padded_len=12)"
   ]
  },
  {
   "cell_type": "markdown",
   "metadata": {},
   "source": [
    "Check that your implementation is correct:"
   ]
  },
  {
   "cell_type": "code",
   "execution_count": 13,
   "metadata": {},
   "outputs": [],
   "source": [
    "def test_sentence_to_ids():\n",
    "    sentences = [(\"123+123\", 7), (\"123+123\", 8), (\"123+123\", 10)]\n",
    "    expected_output = [([5, 6, 7, 3, 5, 6, 1], 7), \n",
    "                       ([5, 6, 7, 3, 5, 6, 7, 1], 8), \n",
    "                       ([5, 6, 7, 3, 5, 6, 7, 1, 2, 2], 8)] \n",
    "    for (sentence, padded_len), (sentence_ids, expected_length) in zip(sentences, expected_output):\n",
    "        output, length = sentence_to_ids(sentence, word2id, padded_len)\n",
    "        if output != sentence_ids:\n",
    "            return(\"Convertion of '{}' for padded_len={} to {} is incorrect.\".format(\n",
    "                sentence, padded_len, output))\n",
    "        if length != expected_length:\n",
    "            return(\"Convertion of '{}' for padded_len={} has incorrect actual length {}.\".format(\n",
    "                sentence, padded_len, length))\n",
    "    return(\"Tests passed.\")"
   ]
  },
  {
   "cell_type": "code",
   "execution_count": 14,
   "metadata": {},
   "outputs": [
    {
     "name": "stdout",
     "output_type": "stream",
     "text": [
      "Tests passed.\n"
     ]
    }
   ],
   "source": [
    "print(test_sentence_to_ids())"
   ]
  },
  {
   "cell_type": "markdown",
   "metadata": {},
   "source": [
    "We also need to be able to get back from indices to symbols:"
   ]
  },
  {
   "cell_type": "code",
   "execution_count": 15,
   "metadata": {},
   "outputs": [],
   "source": [
    "def ids_to_sentence(ids, id2word):\n",
    "    \"\"\" Converts a sequence of ids to a sequence of symbols.\n",
    "    \n",
    "          ids: a list, indices for the padded sequence.\n",
    "          id2word:  a dict, a mapping from ids to original symbols.\n",
    "\n",
    "          result: a list of symbols.\n",
    "    \"\"\"\n",
    " \n",
    "    return [id2word[i] for i in ids] "
   ]
  },
  {
   "cell_type": "markdown",
   "metadata": {},
   "source": [
    "### Generating batches"
   ]
  },
  {
   "cell_type": "markdown",
   "metadata": {},
   "source": [
    "The final step of data preparation is a function that transforms a batch of sentences to a list of lists of indices. "
   ]
  },
  {
   "cell_type": "code",
   "execution_count": 16,
   "metadata": {},
   "outputs": [],
   "source": [
    "def batch_to_ids(sentences, word2id, max_len):\n",
    "    \"\"\"Prepares batches of indices. \n",
    "    \n",
    "       Sequences are padded to match the longest sequence in the batch,\n",
    "       if it's longer than max_len, then max_len is used instead.\n",
    "\n",
    "        sentences: a list of strings, original sequences.\n",
    "        word2id: a dict, a mapping from original symbols to ids.\n",
    "        max_len: an integer, max len of sequences allowed.\n",
    "\n",
    "        result: a list of lists of ids, a list of actual lengths.\n",
    "    \"\"\"\n",
    "    \n",
    "    max_len_in_batch = min(max(len(s) for s in sentences) + 1, max_len)\n",
    "    batch_ids, batch_ids_len = [], []\n",
    "    for sentence in sentences:\n",
    "        ids, ids_len = sentence_to_ids(sentence, word2id, max_len_in_batch)\n",
    "        batch_ids.append(ids)\n",
    "        batch_ids_len.append(ids_len)\n",
    "    return batch_ids, batch_ids_len"
   ]
  },
  {
   "cell_type": "markdown",
   "metadata": {},
   "source": [
    "The function *generate_batches* will help to generate batches with defined size from given samples."
   ]
  },
  {
   "cell_type": "code",
   "execution_count": 17,
   "metadata": {},
   "outputs": [],
   "source": [
    "def generate_batches(samples, batch_size=64):\n",
    "    X, Y = [], []\n",
    "    for i, (x, y) in enumerate(samples, 1):\n",
    "        X.append(x)\n",
    "        Y.append(y)\n",
    "        if i % batch_size == 0:\n",
    "            yield X, Y\n",
    "            X, Y = [], []\n",
    "    if X and Y:\n",
    "        yield X, Y"
   ]
  },
  {
   "cell_type": "markdown",
   "metadata": {},
   "source": [
    "To illustrate the result of the implemented functions, run the following cell:"
   ]
  },
  {
   "cell_type": "code",
   "execution_count": 18,
   "metadata": {},
   "outputs": [
    {
     "name": "stdout",
     "output_type": "stream",
     "text": [
      "Input: ('7983+9245', '17228')\n",
      "Ids: [[11, 13, 12, 7, 3, 13, 6, 8, 9, 1], [5, 11, 6, 6, 12, 1, 2, 2, 2, 2]]\n",
      "Sentences lengths: [10, 6]\n"
     ]
    }
   ],
   "source": [
    "sentences = train_set[0]\n",
    "ids, sent_lens = batch_to_ids(sentences, word2id, max_len=10)\n",
    "print('Input:', sentences)\n",
    "print('Ids: {}\\nSentences lengths: {}'.format(ids, sent_lens))"
   ]
  },
  {
   "cell_type": "markdown",
   "metadata": {},
   "source": [
    "## 3. Encoder-Decoder architecture\n",
    "\n",
    "Encoder-Decoder is a successful architecture for Seq2Seq tasks with different lengths of input and output sequences. The main idea is to use two recurrent neural networks, where the first neural network *encodes* the input sequence into a real-valued vector and then the second neural network *decodes* this vector into the output sequence. While building the neural network, we will specify some particular characteristics of this architecture."
   ]
  },
  {
   "cell_type": "code",
   "execution_count": 82,
   "metadata": {},
   "outputs": [],
   "source": [
    "import tensorflow as tf"
   ]
  },
  {
   "cell_type": "markdown",
   "metadata": {},
   "source": [
    "Let us use TensorFlow building blocks to specify the network architecture."
   ]
  },
  {
   "cell_type": "code",
   "execution_count": 20,
   "metadata": {},
   "outputs": [],
   "source": [
    "class Seq2SeqModel(object):\n",
    "    pass"
   ]
  },
  {
   "cell_type": "markdown",
   "metadata": {},
   "source": [
    "First, we need to create [placeholders](https://www.tensorflow.org/api_guides/python/io_ops#Placeholders) to specify what data we are going to feed into the network during the execution time. For this task we will need:\n",
    " - *input_batch* — sequences of sentences (the shape will equal to [batch_size, max_sequence_len_in_batch]);\n",
    " - *input_batch_lengths* — lengths of not padded sequences (the shape equals to [batch_size]);\n",
    " - *ground_truth* — sequences of groundtruth (the shape will equal to [batch_size, max_sequence_len_in_batch]);\n",
    " - *ground_truth_lengths* — lengths of not padded groundtruth sequences (the shape equals to [batch_size]);\n",
    " - *dropout_ph* — dropout keep probability; this placeholder has a predifined value 1;\n",
    " - *learning_rate_ph* — learning rate."
   ]
  },
  {
   "cell_type": "code",
   "execution_count": 21,
   "metadata": {},
   "outputs": [],
   "source": [
    "def declare_placeholders(self):\n",
    "    \"\"\"Specifies placeholders for the model.\"\"\"\n",
    "    \n",
    "    # Placeholders for input and its actual lengths.\n",
    "    self.input_batch = tf.placeholder(shape=(None, None), dtype=tf.int32, name='input_batch')\n",
    "    self.input_batch_lengths = tf.placeholder(shape=(None, ), dtype=tf.int32, name='input_batch_lengths')\n",
    "    \n",
    "    # Placeholders for groundtruth and its actual lengths.\n",
    "    self.ground_truth = tf.placeholder(shape=(None, None), dtype=tf.int32)\n",
    "    self.ground_truth_lengths = tf.placeholder(shape=(None,), dtype=tf.int32)\n",
    "        \n",
    "    self.dropout_ph = tf.placeholder_with_default(tf.cast(1.0, tf.float32), shape=[])\n",
    "    self.learning_rate_ph = tf.placeholder(shape=[], dtype=tf.float32)"
   ]
  },
  {
   "cell_type": "code",
   "execution_count": 22,
   "metadata": {},
   "outputs": [],
   "source": [
    "Seq2SeqModel.__declare_placeholders = classmethod(declare_placeholders)"
   ]
  },
  {
   "cell_type": "markdown",
   "metadata": {},
   "source": [
    "Now, let us specify the layers of the neural network. First, we need to prepare an embedding matrix. Since we use the same vocabulary for input and output, we need only one such matrix. For tasks with different vocabularies there would be multiple embedding layers.\n",
    "- Create embeddings matrix with [tf.Variable](https://www.tensorflow.org/api_docs/python/tf/Variable). Specify its name, type (tf.float32), and initialize with random values.\n",
    "- Perform [embeddings lookup](https://www.tensorflow.org/api_docs/python/tf/nn/embedding_lookup) for a given input batch."
   ]
  },
  {
   "cell_type": "code",
   "execution_count": 23,
   "metadata": {},
   "outputs": [],
   "source": [
    "def create_embeddings(self, vocab_size, embeddings_size):\n",
    "    \"\"\"Specifies embeddings layer and embeds an input batch.\"\"\"\n",
    "     \n",
    "    random_initializer = tf.random_uniform((vocab_size, embeddings_size), -1.0, 1.0)\n",
    "    self.embeddings = tf.Variable(random_initializer, dtype=tf.float32)\n",
    "    \n",
    "    # Perform embeddings lookup for self.input_batch. \n",
    "    self.input_batch_embedded = tf.nn.embedding_lookup(params=self.embeddings, ids=self.input_batch) "
   ]
  },
  {
   "cell_type": "code",
   "execution_count": 24,
   "metadata": {},
   "outputs": [],
   "source": [
    "Seq2SeqModel.__create_embeddings = classmethod(create_embeddings)"
   ]
  },
  {
   "cell_type": "markdown",
   "metadata": {},
   "source": [
    "### Encoder\n",
    "\n",
    "The first RNN of the current architecture is called an *encoder* and serves for encoding an input sequence to a real-valued vector. Input of this RNN is an embedded input batch. Since sentences in the same batch could have different actual lengths, we also provide input lengths to avoid unnecessary computations. The final encoder state will be passed to the second RNN (decoder), which we will create soon. \n",
    "\n",
    "- TensorFlow provides a number of [RNN cells](https://www.tensorflow.org/api_guides/python/contrib.rnn#Core_RNN_Cells_for_use_with_TensorFlow_s_core_RNN_methods) ready for use. We suggest that you use [GRU cell](https://www.tensorflow.org/api_docs/python/tf/contrib/rnn/GRUCell), but you can also experiment with other types. \n",
    "- Wrap your cells with [DropoutWrapper](https://www.tensorflow.org/api_docs/python/tf/contrib/rnn/DropoutWrapper). Dropout is an important regularization technique for neural networks. Specify input keep probability using the dropout placeholder that we created before.\n",
    "- Combine the defined encoder cells with [Dynamic RNN](https://www.tensorflow.org/api_docs/python/tf/nn/dynamic_rnn). Use the embedded input batches and their lengths here.\n",
    "- Use *dtype=tf.float32* everywhere."
   ]
  },
  {
   "cell_type": "code",
   "execution_count": 25,
   "metadata": {},
   "outputs": [],
   "source": [
    "def build_encoder(self, hidden_size):\n",
    "    \"\"\"Specifies encoder architecture and computes its output.\"\"\"\n",
    "    \n",
    "    # Create GRUCell with dropout.\n",
    "    gru_cell = tf.contrib.rnn.GRUCell(hidden_size)\n",
    "    encoder_cell = tf.contrib.rnn.DropoutWrapper(gru_cell, input_keep_prob=self.dropout_ph)\n",
    "    \n",
    "    # Create RNN with the predefined cell.\n",
    "    _, self.final_encoder_state = tf.nn.dynamic_rnn(cell=encoder_cell,\n",
    "                                                    inputs=self.input_batch_embedded,\n",
    "                                                    sequence_length=self.input_batch_lengths,\n",
    "                                                    dtype=tf.float32)"
   ]
  },
  {
   "cell_type": "code",
   "execution_count": 26,
   "metadata": {},
   "outputs": [],
   "source": [
    "Seq2SeqModel.__build_encoder = classmethod(build_encoder)"
   ]
  },
  {
   "cell_type": "markdown",
   "metadata": {},
   "source": [
    "### Decoder\n",
    "\n",
    "The second RNN is called a *decoder* and serves for generating the output sequence. In the simple seq2seq arcitecture, the input sequence is provided to the decoder only as the final state of the encoder. Obviously, it is a bottleneck and [Attention techniques](https://www.tensorflow.org/tutorials/seq2seq#background_on_the_attention_mechanism) can help to overcome it. So far, we do not need them to make our calculator work, but this would be a necessary ingredient for more advanced tasks. \n",
    "\n",
    "During training, decoder also uses information about the true output. It is feeded in as input symbol by symbol. However, during the prediction stage (which is called *inference* in this architecture), the decoder can only use its own generated output from the previous step to feed it in at the next step. Because of this difference (*training* vs *inference*), we will create two distinct instances, which will serve for the described scenarios.\n",
    "\n",
    "The picture below illustrates the point. It also shows our work with the special characters, e.g. look how the start symbol `^` is used. The transparent parts are ignored. In decoder, it is masked out in the loss computation. In encoder, the green state is considered as final and passed to the decoder. "
   ]
  },
  {
   "cell_type": "markdown",
   "metadata": {},
   "source": [
    "<img src=\"encoder-decoder-pic.png\" style=\"width: 500px;\">"
   ]
  },
  {
   "cell_type": "markdown",
   "metadata": {},
   "source": [
    "Now, it's time to implement the decoder:\n",
    " - First, we should create two [helpers](https://www.tensorflow.org/api_guides/python/contrib.seq2seq#Dynamic_Decoding). These classes help to determine the behaviour of the decoder. During the training time, we will use [TrainingHelper](https://www.tensorflow.org/api_docs/python/tf/contrib/seq2seq/TrainingHelper). For the inference we recommend to use [GreedyEmbeddingHelper](https://www.tensorflow.org/api_docs/python/tf/contrib/seq2seq/GreedyEmbeddingHelper).\n",
    " - To share all parameters during training and inference, we use one scope and set the flag 'reuse' to True at inference time. You might be interested to know more about how [variable scopes](https://www.tensorflow.org/programmers_guide/variables) work in TF. \n",
    " - To create the decoder itself, we will use [BasicDecoder](https://www.tensorflow.org/api_docs/python/tf/contrib/seq2seq/BasicDecoder) class. As previously, you should choose some RNN cell, e.g. GRU cell. To turn hidden states into logits, we will need a projection layer. One of the simple solutions is using [OutputProjectionWrapper](https://www.tensorflow.org/api_docs/python/tf/contrib/rnn/OutputProjectionWrapper).\n",
    " - For getting the predictions, it will be convinient to use [dynamic_decode](https://www.tensorflow.org/api_docs/python/tf/contrib/seq2seq/dynamic_decode). This function uses the provided decoder to perform decoding."
   ]
  },
  {
   "cell_type": "code",
   "execution_count": 27,
   "metadata": {},
   "outputs": [],
   "source": [
    "def build_decoder(self, hidden_size, vocab_size, max_iter, start_symbol_id, end_symbol_id):\n",
    "    \"\"\"Specifies decoder architecture and computes the output.\n",
    "    \n",
    "        Uses different helpers:\n",
    "          - for train: feeding ground truth\n",
    "          - for inference: feeding generated output\n",
    "\n",
    "        As a result, self.train_outputs and self.infer_outputs are created. \n",
    "        Each of them contains two fields:\n",
    "          rnn_output (predicted logits)\n",
    "          sample_id (predictions).\n",
    "\n",
    "    \"\"\"\n",
    "    \n",
    "    # Use start symbols as the decoder inputs at the first time step.\n",
    "    batch_size = tf.shape(self.input_batch)[0]\n",
    "    start_tokens = tf.fill([batch_size], start_symbol_id)\n",
    "    ground_truth_as_input = tf.concat([tf.expand_dims(start_tokens, 1), self.ground_truth], 1)\n",
    "    \n",
    "    # Use the embedding layer defined before to lookup embedings for ground_truth_as_input. \n",
    "    self.ground_truth_embedded = tf.nn.embedding_lookup(params=self.embeddings,\n",
    "                                                        ids=ground_truth_as_input)\n",
    "     \n",
    "    # Create TrainingHelper for the train stage.\n",
    "    train_helper = tf.contrib.seq2seq.TrainingHelper(self.ground_truth_embedded, \n",
    "                                                     self.ground_truth_lengths)\n",
    "    \n",
    "    # Create GreedyEmbeddingHelper for the inference stage.\n",
    "    # You should provide the embedding layer, start_tokens and index of the end symbol.\n",
    "    infer_helper = tf.contrib.seq2seq.GreedyEmbeddingHelper(embedding=self.embeddings,\n",
    "                                                            start_tokens=start_tokens,\n",
    "                                                            end_token=end_symbol_id)\n",
    "    \n",
    "  \n",
    "    def decode(helper, scope, reuse=None):\n",
    "        \"\"\"Creates decoder and return the results of the decoding with a given helper.\"\"\"\n",
    "        \n",
    "        with tf.variable_scope(scope, reuse=reuse):\n",
    "            # Create GRUCell with dropout. Do not forget to set the reuse flag properly.\n",
    "            gru_cell = tf.contrib.rnn.GRUCell(hidden_size, reuse=reuse)\n",
    "            decoder_cell = tf.contrib.rnn.DropoutWrapper(gru_cell, self.dropout_ph)\n",
    "            \n",
    "            # Create a projection wrapper.\n",
    "            decoder_cell = tf.contrib.rnn.OutputProjectionWrapper(decoder_cell, vocab_size, reuse=reuse)\n",
    "            \n",
    "            # Create BasicDecoder, pass the defined cell, a helper, and initial state.\n",
    "            # The initial state should be equal to the final state of the encoder!\n",
    "            decoder = tf.contrib.seq2seq.BasicDecoder(decoder_cell, helper=helper,\n",
    "                                                      initial_state=self.final_encoder_state)\n",
    "            \n",
    "            # The first returning argument of dynamic_decode contains two fields:\n",
    "            #   rnn_output (predicted logits)\n",
    "            #   sample_id (predictions)\n",
    "            outputs, _, _ = tf.contrib.seq2seq.dynamic_decode(decoder=decoder, maximum_iterations=max_iter, \n",
    "                                                              output_time_major=False, impute_finished=True)\n",
    "\n",
    "            return outputs\n",
    "        \n",
    "    self.train_outputs = decode(train_helper, 'decode')\n",
    "    self.infer_outputs = decode(infer_helper, 'decode', reuse=True)"
   ]
  },
  {
   "cell_type": "code",
   "execution_count": 28,
   "metadata": {},
   "outputs": [],
   "source": [
    "Seq2SeqModel.__build_decoder = classmethod(build_decoder)"
   ]
  },
  {
   "cell_type": "markdown",
   "metadata": {},
   "source": [
    "In this task we will use [sequence_loss](https://www.tensorflow.org/api_docs/python/tf/contrib/seq2seq/sequence_loss), which is a weighted cross-entropy loss for a sequence of logits. Take a moment to understand, what is your train logits and targets. Also note, that we do not want to take into account loss terms coming from padding symbols, so we will mask them out using weights.  "
   ]
  },
  {
   "cell_type": "code",
   "execution_count": 29,
   "metadata": {},
   "outputs": [],
   "source": [
    "def compute_loss(self):\n",
    "    \"\"\"Computes sequence loss (masked cross-entopy loss with logits).\"\"\"\n",
    "    \n",
    "    weights = tf.cast(tf.sequence_mask(self.ground_truth_lengths), dtype=tf.float32)\n",
    "    \n",
    "    self.loss = tf.contrib.seq2seq.sequence_loss(logits=self.train_outputs.rnn_output,\n",
    "                                                 targets=self.ground_truth,\n",
    "                                                 weights=weights)"
   ]
  },
  {
   "cell_type": "code",
   "execution_count": 30,
   "metadata": {},
   "outputs": [],
   "source": [
    "Seq2SeqModel.__compute_loss = classmethod(compute_loss)"
   ]
  },
  {
   "cell_type": "markdown",
   "metadata": {},
   "source": [
    "The last thing to specify is the optimization of the defined loss. \n",
    "We suggest that you use [optimize_loss](https://www.tensorflow.org/api_docs/python/tf/contrib/layers/optimize_loss) with Adam optimizer and a learning rate from the corresponding placeholder. You might also need to pass global step (e.g. as tf.train.get_global_step()) and clip gradients by 1.0."
   ]
  },
  {
   "cell_type": "code",
   "execution_count": 31,
   "metadata": {},
   "outputs": [],
   "source": [
    "def perform_optimization(self):\n",
    "    \"\"\"Specifies train_op that optimizes self.loss.\"\"\"\n",
    "    \n",
    "    self.train_op = tf.contrib.layers.optimize_loss(self.loss, optimizer='Adam',\n",
    "                                                    learning_rate=self.learning_rate_ph,\n",
    "                                                    clip_gradients=1.0,\n",
    "                                                    global_step=tf.train.get_global_step())"
   ]
  },
  {
   "cell_type": "code",
   "execution_count": 32,
   "metadata": {},
   "outputs": [],
   "source": [
    "Seq2SeqModel.__perform_optimization = classmethod(perform_optimization)"
   ]
  },
  {
   "cell_type": "markdown",
   "metadata": {},
   "source": [
    "Congratulations! You have specified all the parts of your network. You may have noticed, that we didn't deal with any real data yet, so what you have written is just recipies on how the network should function.\n",
    "Now we will put them to the constructor of our Seq2SeqModel class to use it in the next section. "
   ]
  },
  {
   "cell_type": "code",
   "execution_count": 33,
   "metadata": {},
   "outputs": [],
   "source": [
    "def init_model(self, vocab_size, embeddings_size, hidden_size, \n",
    "               max_iter, start_symbol_id, end_symbol_id, padding_symbol_id):\n",
    "    \n",
    "    self.__declare_placeholders()\n",
    "    self.__create_embeddings(vocab_size, embeddings_size)\n",
    "    self.__build_encoder(hidden_size)\n",
    "    self.__build_decoder(hidden_size, vocab_size, max_iter, start_symbol_id, end_symbol_id)\n",
    "    \n",
    "    # Compute loss and back-propagate.\n",
    "    self.__compute_loss()\n",
    "    self.__perform_optimization()\n",
    "    \n",
    "    # Get predictions for evaluation.\n",
    "    self.train_predictions = self.train_outputs.sample_id\n",
    "    self.infer_predictions = self.infer_outputs.sample_id"
   ]
  },
  {
   "cell_type": "code",
   "execution_count": 34,
   "metadata": {},
   "outputs": [],
   "source": [
    "Seq2SeqModel.__init__ = classmethod(init_model)"
   ]
  },
  {
   "cell_type": "markdown",
   "metadata": {},
   "source": [
    "## 4. Train the network and predict output\n",
    "\n",
    "[Session.run](https://www.tensorflow.org/api_docs/python/tf/Session#run) is a point which initiates computations in the graph that we have defined. To train the network, we need to compute *self.train_op*. To predict output, we just need to compute *self.infer_predictions*. In any case, we need to feed actual data through the placeholders that we defined above. "
   ]
  },
  {
   "cell_type": "code",
   "execution_count": 35,
   "metadata": {},
   "outputs": [],
   "source": [
    "def train_on_batch(self, session, X, X_seq_len, Y, Y_seq_len, learning_rate, dropout_keep_probability):\n",
    "    feed_dict = {\n",
    "            self.input_batch: X,\n",
    "            self.input_batch_lengths: X_seq_len,\n",
    "            self.ground_truth: Y,\n",
    "            self.ground_truth_lengths: Y_seq_len,\n",
    "            self.learning_rate_ph: learning_rate,\n",
    "            self.dropout_ph: dropout_keep_probability\n",
    "        }\n",
    "    pred, loss, _ = session.run([\n",
    "            self.train_predictions,\n",
    "            self.loss,\n",
    "            self.train_op], feed_dict=feed_dict)\n",
    "    return pred, loss"
   ]
  },
  {
   "cell_type": "code",
   "execution_count": 36,
   "metadata": {},
   "outputs": [],
   "source": [
    "Seq2SeqModel.train_on_batch = classmethod(train_on_batch)"
   ]
  },
  {
   "cell_type": "markdown",
   "metadata": {},
   "source": [
    "We implemented two prediction functions: *predict_for_batch* and *predict_for_batch_with_loss*. The first one allows only to predict output for some input sequence, while the second one could compute loss because we provide also ground truth values. Both these functions might be useful since the first one could be used for predicting only, and the second one is helpful for validating results on not-training data during the training."
   ]
  },
  {
   "cell_type": "code",
   "execution_count": 37,
   "metadata": {},
   "outputs": [],
   "source": [
    "def predict_for_batch(self, session, X, X_seq_len):\n",
    "    feed_dict = {self.input_batch: X, self.input_batch_lengths: X_seq_len}\n",
    "    \n",
    "    pred = session.run([\n",
    "            self.infer_predictions\n",
    "        ], feed_dict=feed_dict)[0]\n",
    "    \n",
    "    return pred\n",
    "\n",
    "def predict_for_batch_with_loss(self, session, X, X_seq_len, Y, Y_seq_len):\n",
    "    feed_dict = {self.input_batch: X, self.input_batch_lengths: X_seq_len,\n",
    "                 self.ground_truth: Y, self.ground_truth_lengths: Y_seq_len}\n",
    "    \n",
    "    pred, loss = session.run([\n",
    "            self.infer_predictions,\n",
    "            self.loss,\n",
    "        ], feed_dict=feed_dict)\n",
    "    \n",
    "    return pred, loss"
   ]
  },
  {
   "cell_type": "code",
   "execution_count": 38,
   "metadata": {},
   "outputs": [],
   "source": [
    "Seq2SeqModel.predict_for_batch = classmethod(predict_for_batch)\n",
    "Seq2SeqModel.predict_for_batch_with_loss = classmethod(predict_for_batch_with_loss)"
   ]
  },
  {
   "cell_type": "markdown",
   "metadata": {},
   "source": [
    "## 5. Run your experiment\n",
    "\n",
    "Create *Seq2SeqModel* model with the following parameters:\n",
    " - *vocab_size* — number of tokens;\n",
    " - *embeddings_size* — dimension of embeddings, recommended value: 20;\n",
    " - *max_iter* — maximum number of steps in decoder, recommended value: 7;\n",
    " - *hidden_size* — size of hidden layers for RNN, recommended value: 512;\n",
    " - *start_symbol_id* — an index of the start token (`^`).\n",
    " - *end_symbol_id* — an index of the end token (`$`).\n",
    " - *padding_symbol_id* — an index of the padding token (`#`).\n",
    "\n",
    "Set hyperparameters. You might want to start with the following values and see how it works:\n",
    "- *batch_size*: 128;\n",
    "- **at least 10 epochs (to be increased later)**;\n",
    "- value of *learning_rate*: 0.001\n",
    "- *dropout_keep_probability* equals to 0.5 for training (typical values for dropout probability are ranging from 0.1 to 1.0); larger values correspond smaler number of dropout units;\n",
    "- *max_len*: 20."
   ]
  },
  {
   "cell_type": "code",
   "execution_count": 39,
   "metadata": {},
   "outputs": [],
   "source": [
    "from IPython.display import clear_output"
   ]
  },
  {
   "cell_type": "markdown",
   "metadata": {},
   "source": [
    "### a) Experiment 1: Default hyperparameters"
   ]
  },
  {
   "cell_type": "code",
   "execution_count": 71,
   "metadata": {},
   "outputs": [],
   "source": [
    "tf.reset_default_graph()\n",
    "\n",
    "model = Seq2SeqModel(vocab_size=len(word2id),\n",
    "                     embeddings_size=20,\n",
    "                     max_iter=7,\n",
    "                     hidden_size=512,\n",
    "                     start_symbol_id=word2id['^'],\n",
    "                     end_symbol_id=word2id['$'],\n",
    "                     padding_symbol_id=word2id['#'])\n",
    "\n",
    "batch_size = 128\n",
    "n_epochs = 10\n",
    "learning_rate = 0.001\n",
    "dropout_keep_probability = 0.5\n",
    "max_len = 20\n",
    "\n",
    "n_step = int(len(train_set) / batch_size)"
   ]
  },
  {
   "cell_type": "markdown",
   "metadata": {},
   "source": [
    "Finally, we are ready to run the training! A good indicator that everything works fine is decreasing loss during the training. You should account on the loss value equal to approximately 2.7 at the beginning of the training and near 1 after the 10th epoch."
   ]
  },
  {
   "cell_type": "code",
   "execution_count": 72,
   "metadata": {
    "scrolled": true
   },
   "outputs": [
    {
     "name": "stdout",
     "output_type": "stream",
     "text": [
      "Start training... \n",
      "\n",
      "Train: Epoch 1\n",
      "Epoch: [1/10], step: [1/625], Loss: 2.708701\n",
      "Epoch: [1/10], step: [201/625], Loss: 1.867655\n",
      "Epoch: [1/10], step: [401/625], Loss: 1.746811\n",
      "Epoch: [1/10], step: [601/625], Loss: 1.684222\n",
      "\n",
      "Test: Epoch 1 Loss: 1.5970589\n",
      "X: 2422-4657$\n",
      "Y: -2235$\n",
      "O: -3333$\n",
      "\n",
      "X: 685+6773$#\n",
      "Y: 7458$#\n",
      "O: 8183$^\n",
      "\n",
      "X: 6248-8112$\n",
      "Y: -1864$\n",
      "O: -1033$\n",
      "\n",
      "Train: Epoch 2\n",
      "Epoch: [2/10], step: [1/625], Loss: 1.610699\n",
      "Epoch: [2/10], step: [201/625], Loss: 1.566229\n",
      "Epoch: [2/10], step: [401/625], Loss: 1.528473\n",
      "Epoch: [2/10], step: [601/625], Loss: 1.490780\n",
      "\n",
      "Test: Epoch 2 Loss: 1.4591132\n",
      "X: 3987-3763$\n",
      "Y: 224$##\n",
      "O: 1011$^\n",
      "\n",
      "X: 9014+2826$\n",
      "Y: 11840$\n",
      "O: 12976$\n",
      "\n",
      "X: 1079+4462$\n",
      "Y: 5541$#\n",
      "O: 5666$^\n",
      "\n",
      "Train: Epoch 3\n",
      "Epoch: [3/10], step: [1/625], Loss: 1.507660\n",
      "Epoch: [3/10], step: [201/625], Loss: 1.428531\n",
      "Epoch: [3/10], step: [401/625], Loss: 1.400531\n",
      "Epoch: [3/10], step: [601/625], Loss: 1.388784\n",
      "\n",
      "Test: Epoch 3 Loss: 1.3599818\n",
      "X: 3004-6804$\n",
      "Y: -3800$\n",
      "O: -3306$\n",
      "\n",
      "X: 5718-9180$\n",
      "Y: -3462$\n",
      "O: -3900$\n",
      "\n",
      "X: 9290+7881$\n",
      "Y: 17171$\n",
      "O: 16999$\n",
      "\n",
      "Train: Epoch 4\n",
      "Epoch: [4/10], step: [1/625], Loss: 1.387681\n",
      "Epoch: [4/10], step: [201/625], Loss: 1.382363\n",
      "Epoch: [4/10], step: [401/625], Loss: 1.363368\n",
      "Epoch: [4/10], step: [601/625], Loss: 1.342422\n",
      "\n",
      "Test: Epoch 4 Loss: 1.3051637\n",
      "X: 5254+9974$\n",
      "Y: 15228$\n",
      "O: 15188$\n",
      "\n",
      "X: 5787+6876$\n",
      "Y: 12663$\n",
      "O: 12818$\n",
      "\n",
      "X: 9665+2777$\n",
      "Y: 12442$\n",
      "O: 12688$\n",
      "\n",
      "Train: Epoch 5\n",
      "Epoch: [5/10], step: [1/625], Loss: 1.347557\n",
      "Epoch: [5/10], step: [201/625], Loss: 1.313474\n",
      "Epoch: [5/10], step: [401/625], Loss: 1.360918\n",
      "Epoch: [5/10], step: [601/625], Loss: 1.294952\n",
      "\n",
      "Test: Epoch 5 Loss: 1.294328\n",
      "X: 7905-3316$\n",
      "Y: 4589$#\n",
      "O: 4744$^\n",
      "\n",
      "X: 4716+3695$\n",
      "Y: 8411$#\n",
      "O: 8644$^\n",
      "\n",
      "X: 2351-4472$\n",
      "Y: -2121$\n",
      "O: -1830$\n",
      "\n",
      "Train: Epoch 6\n",
      "Epoch: [6/10], step: [1/625], Loss: 1.284979\n",
      "Epoch: [6/10], step: [201/625], Loss: 1.288376\n",
      "Epoch: [6/10], step: [401/625], Loss: 1.257299\n",
      "Epoch: [6/10], step: [601/625], Loss: 1.283842\n",
      "\n",
      "Test: Epoch 6 Loss: 1.2407136\n",
      "X: 9145+2456$\n",
      "Y: 11601$\n",
      "O: 11666$\n",
      "\n",
      "X: 5475+7229$\n",
      "Y: 12704$\n",
      "O: 12626$\n",
      "\n",
      "X: 3962+3008$\n",
      "Y: 6970$#\n",
      "O: 7033$^\n",
      "\n",
      "Train: Epoch 7\n",
      "Epoch: [7/10], step: [1/625], Loss: 1.234496\n",
      "Epoch: [7/10], step: [201/625], Loss: 1.178647\n",
      "Epoch: [7/10], step: [401/625], Loss: 1.180784\n",
      "Epoch: [7/10], step: [601/625], Loss: 1.135758\n",
      "\n",
      "Test: Epoch 7 Loss: 1.0833251\n",
      "X: 7998+7348$\n",
      "Y: 15346$\n",
      "O: 15275$\n",
      "\n",
      "X: 2223+6818$\n",
      "Y: 9041$#\n",
      "O: 9077$^\n",
      "\n",
      "X: 2966+1527$\n",
      "Y: 4493$#\n",
      "O: 4522$^\n",
      "\n",
      "Train: Epoch 8\n",
      "Epoch: [8/10], step: [1/625], Loss: 1.122755\n",
      "Epoch: [8/10], step: [201/625], Loss: 1.103611\n",
      "Epoch: [8/10], step: [401/625], Loss: 1.058927\n",
      "Epoch: [8/10], step: [601/625], Loss: 1.005635\n",
      "\n",
      "Test: Epoch 8 Loss: 1.0044456\n",
      "X: 3121-9972$\n",
      "Y: -6851$\n",
      "O: -6793$\n",
      "\n",
      "X: 3034-3844$\n",
      "Y: -810$#\n",
      "O: -754$^\n",
      "\n",
      "X: 6094+7635$\n",
      "Y: 13729$\n",
      "O: 13703$\n",
      "\n",
      "Train: Epoch 9\n",
      "Epoch: [9/10], step: [1/625], Loss: 1.013685\n",
      "Epoch: [9/10], step: [201/625], Loss: 0.982194\n",
      "Epoch: [9/10], step: [401/625], Loss: 1.001443\n",
      "Epoch: [9/10], step: [601/625], Loss: 0.988368\n",
      "\n",
      "Test: Epoch 9 Loss: 0.9470385\n",
      "X: 3162+3708$\n",
      "Y: 6870$#\n",
      "O: 6907$^\n",
      "\n",
      "X: 7428+374$#\n",
      "Y: 7802$#\n",
      "O: 7897$^\n",
      "\n",
      "X: 95-7779$##\n",
      "Y: -7684$\n",
      "O: -7760$\n",
      "\n",
      "Train: Epoch 10\n",
      "Epoch: [10/10], step: [1/625], Loss: 1.002370\n",
      "Epoch: [10/10], step: [201/625], Loss: 0.975641\n",
      "Epoch: [10/10], step: [401/625], Loss: 0.919782\n",
      "Epoch: [10/10], step: [601/625], Loss: 0.937497\n",
      "\n",
      "Test: Epoch 10 Loss: 0.88665557\n",
      "X: 3990+4945$\n",
      "Y: 8935$#\n",
      "O: 8936$^\n",
      "\n",
      "X: 1194+7922$\n",
      "Y: 9116$#\n",
      "O: 9131$^\n",
      "\n",
      "X: 7889+9947$\n",
      "Y: 17836$\n",
      "O: 17840$\n",
      "\n",
      "\n",
      "...training finished.\n"
     ]
    }
   ],
   "source": [
    "session = tf.Session()\n",
    "session.run(tf.global_variables_initializer())\n",
    "            \n",
    "invalid_number_prediction_counts = []\n",
    "all_model_predictions = []\n",
    "all_ground_truth = []\n",
    "\n",
    "print('Start training... \\n')\n",
    "for epoch in range(n_epochs):  \n",
    "    random.shuffle(train_set)\n",
    "    random.shuffle(test_set)\n",
    "    \n",
    "    #clear_output()\n",
    "    print('Train: Epoch', epoch + 1)\n",
    "    for n_iter, (X_batch, Y_batch) in enumerate(generate_batches(train_set, batch_size=batch_size)):\n",
    "        \n",
    "        x, x_len = batch_to_ids(X_batch, word2id, max_len=max_len)\n",
    "        y, y_len = batch_to_ids(Y_batch, word2id, max_len=max_len)\n",
    "        \n",
    "        # prepare the data (X_batch and Y_batch) for training\n",
    "        # using function batch_to_ids\n",
    "        predictions, loss = model.train_on_batch(session=session,\n",
    "                                                 X=x, Y=y,\n",
    "                                                 X_seq_len=x_len,\n",
    "                                                 Y_seq_len=y_len,\n",
    "                                                 learning_rate=learning_rate,\n",
    "                                                 dropout_keep_probability=dropout_keep_probability)\n",
    "        \n",
    "        \n",
    "        if n_iter % 200 == 0:\n",
    "            print(\"Epoch: [%d/%d], step: [%d/%d], Loss: %f\" % (epoch + 1, n_epochs, n_iter + 1, n_step, loss))\n",
    "                \n",
    "    X_sent, Y_sent = next(generate_batches(test_set, batch_size=batch_size))\n",
    "    \n",
    "    X, X_sent_lens = batch_to_ids(X_sent, word2id, max_len=max_len)\n",
    "    Y, Y_sent_lens = batch_to_ids(Y_sent, word2id, max_len=max_len)\n",
    "    \n",
    "    # prepare test data (X_sent and Y_sent) for predicting \n",
    "    # quality and computing value of the loss function\n",
    "    # using function batch_to_ids\n",
    "    \n",
    "    predictions, loss = model.predict_for_batch_with_loss(session, X, X_sent_lens, Y, Y_sent_lens)\n",
    "    \n",
    "    print('\\nTest: Epoch', epoch + 1, 'Loss:', loss,)\n",
    "    for x, y, p  in list(zip(X, Y, predictions))[:3]:\n",
    "        print('X:',''.join(ids_to_sentence(x, id2word)))\n",
    "        print('Y:',''.join(ids_to_sentence(y, id2word)))\n",
    "        print('O:',''.join(ids_to_sentence(p, id2word)))\n",
    "        print('')\n",
    "\n",
    "    model_predictions = []\n",
    "    ground_truth = []\n",
    "    invalid_number_prediction_count = 0\n",
    "    \n",
    "    # For the whole test set calculate ground-truth values (as integer numbers)\n",
    "    # and prediction values (also as integers) to calculate metrics.\n",
    "    # If generated by model number is not correct (e.g. '1-1'), \n",
    "    # increase invalid_number_prediction_count and don't append this and corresponding\n",
    "    # ground-truth value to the arrays.\n",
    "    \n",
    "    for X_batch, Y_batch in generate_batches(test_set, batch_size=batch_size):\n",
    "        \n",
    "        X, X_len = batch_to_ids(X_batch, word2id, max_len=max_len)\n",
    "        Y, Y_len = batch_to_ids(Y_batch, word2id, max_len=max_len)\n",
    "        predictions = model.predict_for_batch(session, X, X_len)\n",
    "        \n",
    "        for Y_true, Y_pred in zip(Y, predictions):\n",
    "            \n",
    "            try:\n",
    "                end_token = '$'\n",
    "                Y_true, Y_pred = ''.join(ids_to_sentence(Y_true, id2word)), ''.join(ids_to_sentence(Y_pred, id2word))\n",
    "                Y_true, Y_pred = Y_true[:Y_true.find(end_token)], Y_pred[:Y_pred.find(end_token)]\n",
    "                model_predictions.append(int(Y_pred))\n",
    "                ground_truth.append(int(Y_true))\n",
    "                \n",
    "            except:\n",
    "                invalid_number_prediction_count = invalid_number_prediction_count + 1\n",
    "    \n",
    "    # Final results\n",
    "    all_model_predictions.append(model_predictions)\n",
    "    all_ground_truth.append(ground_truth)\n",
    "    invalid_number_prediction_counts.append(invalid_number_prediction_count)\n",
    "            \n",
    "print('\\n...training finished.')"
   ]
  },
  {
   "cell_type": "markdown",
   "metadata": {},
   "source": [
    "### Evaluate results\n",
    "\n",
    "Because our task is simple and the output is straight-forward, we will use [MAE](https://en.wikipedia.org/wiki/Mean_absolute_error) metric to evaluate the trained model during the epochs. Compute the value of the metric for the output from each epoch."
   ]
  },
  {
   "cell_type": "code",
   "execution_count": 75,
   "metadata": {},
   "outputs": [],
   "source": [
    "from sklearn.metrics import mean_absolute_error\n",
    "import numpy as np"
   ]
  },
  {
   "cell_type": "code",
   "execution_count": 76,
   "metadata": {},
   "outputs": [
    {
     "name": "stdout",
     "output_type": "stream",
     "text": [
      "Epoch: 1, MAE: 1171.086550, Invalid numbers: 0\n",
      "Epoch: 2, MAE: 567.170050, Invalid numbers: 0\n",
      "Epoch: 3, MAE: 258.540900, Invalid numbers: 0\n",
      "Epoch: 4, MAE: 215.452400, Invalid numbers: 0\n",
      "Epoch: 5, MAE: 170.513600, Invalid numbers: 0\n",
      "Epoch: 6, MAE: 126.176700, Invalid numbers: 0\n",
      "Epoch: 7, MAE: 80.215500, Invalid numbers: 0\n",
      "Epoch: 8, MAE: 43.964200, Invalid numbers: 0\n",
      "Epoch: 9, MAE: 47.929450, Invalid numbers: 0\n",
      "Epoch: 10, MAE: 47.553900, Invalid numbers: 0\n"
     ]
    }
   ],
   "source": [
    "for i, (gts, predictions, invalid_number_prediction_count) in enumerate(zip(all_ground_truth,\n",
    "                                                                            all_model_predictions,\n",
    "                                                                            invalid_number_prediction_counts), 1):\n",
    "    mae = mean_absolute_error(gts, predictions)\n",
    "    print(\"Epoch: %i, MAE: %f, Invalid numbers: %i\" % (i, mae, invalid_number_prediction_count))"
   ]
  },
  {
   "cell_type": "markdown",
   "metadata": {},
   "source": [
    "### b) Experiment 2: Increased number of epochs (from 10 $\\rightarrow$ 20)"
   ]
  },
  {
   "cell_type": "code",
   "execution_count": 80,
   "metadata": {},
   "outputs": [
    {
     "name": "stdout",
     "output_type": "stream",
     "text": [
      "Start training... \n",
      "\n",
      "Train: Epoch 1\n",
      "Epoch: [1/20], step: [1/625], Loss: 2.712097\n",
      "Epoch: [1/20], step: [201/625], Loss: 1.824569\n",
      "Epoch: [1/20], step: [401/625], Loss: 1.728461\n",
      "Epoch: [1/20], step: [601/625], Loss: 1.641482\n",
      "\n",
      "Test: Epoch 1 Loss: 1.6017163\n",
      "X: 1900-2633$\n",
      "Y: -733$#\n",
      "O: -2277$\n",
      "\n",
      "X: 5310+8232$\n",
      "Y: 13542$\n",
      "O: 13777$\n",
      "\n",
      "X: 2724+8739$\n",
      "Y: 11463$\n",
      "O: 11777$\n",
      "\n",
      "Train: Epoch 2\n",
      "Epoch: [2/20], step: [1/625], Loss: 1.684307\n",
      "Epoch: [2/20], step: [201/625], Loss: 1.591554\n",
      "Epoch: [2/20], step: [401/625], Loss: 1.559490\n",
      "Epoch: [2/20], step: [601/625], Loss: 1.535602\n",
      "\n",
      "Test: Epoch 2 Loss: 1.4674786\n",
      "X: 9369+4181$\n",
      "Y: 13550$\n",
      "O: 13944$\n",
      "\n",
      "X: 6566-3339$\n",
      "Y: 3227$#\n",
      "O: 2816$^\n",
      "\n",
      "X: 1560+7127$\n",
      "Y: 8687$#\n",
      "O: 8855$^\n",
      "\n",
      "Train: Epoch 3\n",
      "Epoch: [3/20], step: [1/625], Loss: 1.466757\n",
      "Epoch: [3/20], step: [201/625], Loss: 1.437342\n",
      "Epoch: [3/20], step: [401/625], Loss: 1.444707\n",
      "Epoch: [3/20], step: [601/625], Loss: 1.394455\n",
      "\n",
      "Test: Epoch 3 Loss: 1.3549718\n",
      "X: 7050+6920$\n",
      "Y: 13970$\n",
      "O: 13806$\n",
      "\n",
      "X: 735+5125$#\n",
      "Y: 5860$#\n",
      "O: 5009$^\n",
      "\n",
      "X: 3889+7486$\n",
      "Y: 11375$\n",
      "O: 11500$\n",
      "\n",
      "Train: Epoch 4\n",
      "Epoch: [4/20], step: [1/625], Loss: 1.398751\n",
      "Epoch: [4/20], step: [201/625], Loss: 1.397073\n",
      "Epoch: [4/20], step: [401/625], Loss: 1.348688\n",
      "Epoch: [4/20], step: [601/625], Loss: 1.337359\n",
      "\n",
      "Test: Epoch 4 Loss: 1.3033555\n",
      "X: 6492-1450$\n",
      "Y: 5042$#\n",
      "O: 5544$^\n",
      "\n",
      "X: 9376+9282$\n",
      "Y: 18658$\n",
      "O: 18944$\n",
      "\n",
      "X: 9562+4172$\n",
      "Y: 13734$\n",
      "O: 13944$\n",
      "\n",
      "Train: Epoch 5\n",
      "Epoch: [5/20], step: [1/625], Loss: 1.364480\n",
      "Epoch: [5/20], step: [201/625], Loss: 1.295064\n",
      "Epoch: [5/20], step: [401/625], Loss: 1.298957\n",
      "Epoch: [5/20], step: [601/625], Loss: 1.331787\n",
      "\n",
      "Test: Epoch 5 Loss: 1.256136\n",
      "X: 5813+4146$\n",
      "Y: 9959$#\n",
      "O: 10306$\n",
      "\n",
      "X: 3057+3212$\n",
      "Y: 6269$#\n",
      "O: 6222$^\n",
      "\n",
      "X: 8061-1689$\n",
      "Y: 6372$#\n",
      "O: 6705$^\n",
      "\n",
      "Train: Epoch 6\n",
      "Epoch: [6/20], step: [1/625], Loss: 1.308385\n",
      "Epoch: [6/20], step: [201/625], Loss: 1.286551\n",
      "Epoch: [6/20], step: [401/625], Loss: 1.261255\n",
      "Epoch: [6/20], step: [601/625], Loss: 1.231099\n",
      "\n",
      "Test: Epoch 6 Loss: 1.1795917\n",
      "X: 3954-3139$\n",
      "Y: 815$##\n",
      "O: 1111$^\n",
      "\n",
      "X: 6903-5690$\n",
      "Y: 1213$#\n",
      "O: 1511$^\n",
      "\n",
      "X: 3488-279$#\n",
      "Y: 3209$#\n",
      "O: 3194$^\n",
      "\n",
      "Train: Epoch 7\n",
      "Epoch: [7/20], step: [1/625], Loss: 1.222627\n",
      "Epoch: [7/20], step: [201/625], Loss: 1.131039\n",
      "Epoch: [7/20], step: [401/625], Loss: 1.155236\n",
      "Epoch: [7/20], step: [601/625], Loss: 1.077287\n",
      "\n",
      "Test: Epoch 7 Loss: 1.0369728\n",
      "X: 519+2946$#\n",
      "Y: 3465$#\n",
      "O: 3564$^\n",
      "\n",
      "X: 1832-8035$\n",
      "Y: -6203$\n",
      "O: -6318$\n",
      "\n",
      "X: 5257-1636$\n",
      "Y: 3621$#\n",
      "O: 3504$^\n",
      "\n",
      "Train: Epoch 8\n",
      "Epoch: [8/20], step: [1/625], Loss: 1.072138\n",
      "Epoch: [8/20], step: [201/625], Loss: 1.048906\n",
      "Epoch: [8/20], step: [401/625], Loss: 1.042795\n",
      "Epoch: [8/20], step: [601/625], Loss: 1.006403\n",
      "\n",
      "Test: Epoch 8 Loss: 0.96027434\n",
      "X: 2067-3919$\n",
      "Y: -1852$\n",
      "O: -1841$\n",
      "\n",
      "X: 6905+1110$\n",
      "Y: 8015$#\n",
      "O: 8018$^\n",
      "\n",
      "X: 1046+9175$\n",
      "Y: 10221$\n",
      "O: 10222$\n",
      "\n",
      "Train: Epoch 9\n",
      "Epoch: [9/20], step: [1/625], Loss: 0.976791\n",
      "Epoch: [9/20], step: [201/625], Loss: 1.004494\n",
      "Epoch: [9/20], step: [401/625], Loss: 1.003196\n",
      "Epoch: [9/20], step: [601/625], Loss: 0.996100\n",
      "\n",
      "Test: Epoch 9 Loss: 0.9120847\n",
      "X: 5510+8705$\n",
      "Y: 14215$\n",
      "O: 14209$\n",
      "\n",
      "X: 6994-9657$\n",
      "Y: -2663$\n",
      "O: -2696$\n",
      "\n",
      "X: 6699+2928$\n",
      "Y: 9627$#\n",
      "O: 9628$^\n",
      "\n",
      "Train: Epoch 10\n",
      "Epoch: [10/20], step: [1/625], Loss: 0.954741\n",
      "Epoch: [10/20], step: [201/625], Loss: 0.960411\n",
      "Epoch: [10/20], step: [401/625], Loss: 0.922186\n",
      "Epoch: [10/20], step: [601/625], Loss: 0.900919\n",
      "\n",
      "Test: Epoch 10 Loss: 0.8750363\n",
      "X: 6221-2178$\n",
      "Y: 4043$#\n",
      "O: 4064$^\n",
      "\n",
      "X: 108-2019$#\n",
      "Y: -1911$\n",
      "O: -1975$\n",
      "\n",
      "X: 2793+3155$\n",
      "Y: 5948$#\n",
      "O: 6924$^\n",
      "\n",
      "Train: Epoch 11\n",
      "Epoch: [11/20], step: [1/625], Loss: 0.894241\n",
      "Epoch: [11/20], step: [201/625], Loss: 0.892018\n",
      "Epoch: [11/20], step: [401/625], Loss: 0.912698\n",
      "Epoch: [11/20], step: [601/625], Loss: 0.914152\n",
      "\n",
      "Test: Epoch 11 Loss: 0.89162916\n",
      "X: 3388-107$#\n",
      "Y: 3281$#\n",
      "O: 3279$^\n",
      "\n",
      "X: 1178-1138$\n",
      "Y: 40$###\n",
      "O: -78$^^\n",
      "\n",
      "X: 3419-3552$\n",
      "Y: -133$#\n",
      "O: -122$^\n",
      "\n",
      "Train: Epoch 12\n",
      "Epoch: [12/20], step: [1/625], Loss: 0.891224\n",
      "Epoch: [12/20], step: [201/625], Loss: 0.886488\n",
      "Epoch: [12/20], step: [401/625], Loss: 0.907201\n",
      "Epoch: [12/20], step: [601/625], Loss: 0.884835\n",
      "\n",
      "Test: Epoch 12 Loss: 0.8364977\n",
      "X: 3544+3419$\n",
      "Y: 6963$#\n",
      "O: 6939$^\n",
      "\n",
      "X: 3426-9881$\n",
      "Y: -6455$\n",
      "O: -6480$\n",
      "\n",
      "X: 9138-7337$\n",
      "Y: 1801$#\n",
      "O: 1798$^\n",
      "\n",
      "Train: Epoch 13\n",
      "Epoch: [13/20], step: [1/625], Loss: 0.878807\n",
      "Epoch: [13/20], step: [201/625], Loss: 0.865411\n",
      "Epoch: [13/20], step: [401/625], Loss: 0.858985\n",
      "Epoch: [13/20], step: [601/625], Loss: 0.856371\n",
      "\n",
      "Test: Epoch 13 Loss: 0.81079787\n",
      "X: 6156-5314$\n",
      "Y: 842$##\n",
      "O: 850$^^\n",
      "\n",
      "X: 1531-9018$\n",
      "Y: -7487$\n",
      "O: -7479$\n",
      "\n",
      "X: 6165-7506$\n",
      "Y: -1341$\n",
      "O: -1310$\n",
      "\n",
      "Train: Epoch 14\n",
      "Epoch: [14/20], step: [1/625], Loss: 0.818205\n",
      "Epoch: [14/20], step: [201/625], Loss: 0.873198\n",
      "Epoch: [14/20], step: [401/625], Loss: 0.828824\n",
      "Epoch: [14/20], step: [601/625], Loss: 0.871233\n",
      "\n",
      "Test: Epoch 14 Loss: 0.7983268\n",
      "X: 862-4532$#\n",
      "Y: -3670$\n",
      "O: -3670$\n",
      "\n",
      "X: 305-2350$#\n",
      "Y: -2045$\n",
      "O: -2048$\n",
      "\n",
      "X: 2551-6491$\n",
      "Y: -3940$\n",
      "O: -3947$\n",
      "\n",
      "Train: Epoch 15\n",
      "Epoch: [15/20], step: [1/625], Loss: 0.808098\n",
      "Epoch: [15/20], step: [201/625], Loss: 0.826973\n",
      "Epoch: [15/20], step: [401/625], Loss: 0.786393\n",
      "Epoch: [15/20], step: [601/625], Loss: 0.770098\n",
      "\n",
      "Test: Epoch 15 Loss: 0.7824905\n",
      "X: 7061-6427$\n",
      "Y: 634$##\n",
      "O: 669$^^\n",
      "\n",
      "X: 1967+3574$\n",
      "Y: 5541$#\n",
      "O: 5555$^\n",
      "\n",
      "X: 1854-3596$\n",
      "Y: -1742$\n",
      "O: -1733$\n",
      "\n",
      "Train: Epoch 16\n",
      "Epoch: [16/20], step: [1/625], Loss: 0.806997\n",
      "Epoch: [16/20], step: [201/625], Loss: 0.747293\n",
      "Epoch: [16/20], step: [401/625], Loss: 0.748583\n",
      "Epoch: [16/20], step: [601/625], Loss: 0.699388\n",
      "\n",
      "Test: Epoch 16 Loss: 0.6773346\n",
      "X: 172-6864$#\n",
      "Y: -6692$\n",
      "O: -6698$\n",
      "\n",
      "X: 5452+2807$\n",
      "Y: 8259$#\n",
      "O: 8258$^\n",
      "\n",
      "X: 9662-2546$\n",
      "Y: 7116$#\n",
      "O: 7122$^\n",
      "\n",
      "Train: Epoch 17\n",
      "Epoch: [17/20], step: [1/625], Loss: 0.693468\n",
      "Epoch: [17/20], step: [201/625], Loss: 0.662680\n",
      "Epoch: [17/20], step: [401/625], Loss: 0.625057\n",
      "Epoch: [17/20], step: [601/625], Loss: 0.615148\n",
      "\n",
      "Test: Epoch 17 Loss: 0.604114\n",
      "X: 8550-5125$\n",
      "Y: 3425$#\n",
      "O: 3425$^\n",
      "\n",
      "X: 7442+7120$\n",
      "Y: 14562$\n",
      "O: 14565$\n",
      "\n",
      "X: 5184-1511$\n",
      "Y: 3673$#\n",
      "O: 3666$^\n",
      "\n",
      "Train: Epoch 18\n",
      "Epoch: [18/20], step: [1/625], Loss: 0.606524\n",
      "Epoch: [18/20], step: [201/625], Loss: 0.641232\n",
      "Epoch: [18/20], step: [401/625], Loss: 0.592760\n",
      "Epoch: [18/20], step: [601/625], Loss: 0.580456\n",
      "\n",
      "Test: Epoch 18 Loss: 0.58398294\n",
      "X: 1387+6861$\n",
      "Y: 8248$#\n",
      "O: 8253$^\n",
      "\n",
      "X: 834-3282$#\n",
      "Y: -2448$\n",
      "O: -2454$\n",
      "\n",
      "X: 2097-3137$\n",
      "Y: -1040$\n",
      "O: -1039$\n",
      "\n",
      "Train: Epoch 19\n",
      "Epoch: [19/20], step: [1/625], Loss: 0.582777\n",
      "Epoch: [19/20], step: [201/625], Loss: 0.528172\n",
      "Epoch: [19/20], step: [401/625], Loss: 0.582722\n",
      "Epoch: [19/20], step: [601/625], Loss: 0.533661\n",
      "\n",
      "Test: Epoch 19 Loss: 0.59913105\n",
      "X: 5055+2281$\n",
      "Y: 7336$#\n",
      "O: 7338$^\n",
      "\n",
      "X: 8320-2201$\n",
      "Y: 6119$#\n",
      "O: 6116$^\n",
      "\n",
      "X: 1865-6131$\n",
      "Y: -4266$\n",
      "O: -4269$\n",
      "\n",
      "Train: Epoch 20\n",
      "Epoch: [20/20], step: [1/625], Loss: 0.518811\n",
      "Epoch: [20/20], step: [201/625], Loss: 0.516243\n",
      "Epoch: [20/20], step: [401/625], Loss: 0.481319\n",
      "Epoch: [20/20], step: [601/625], Loss: 0.543190\n",
      "\n",
      "Test: Epoch 20 Loss: 0.5066836\n",
      "X: 8416+4373$\n",
      "Y: 12789$\n",
      "O: 12789$\n",
      "\n",
      "X: 6036+7329$\n",
      "Y: 13365$\n",
      "O: 13370$\n",
      "\n",
      "X: 5087+6292$\n",
      "Y: 11379$\n",
      "O: 11379$\n",
      "\n",
      "\n",
      "...training finished.\n"
     ]
    }
   ],
   "source": [
    "### HYPERPARAMETERS\n",
    "\n",
    "tf.reset_default_graph()\n",
    "\n",
    "model = Seq2SeqModel(vocab_size=len(word2id),\n",
    "                     embeddings_size=20,\n",
    "                     max_iter=7,\n",
    "                     hidden_size=512,\n",
    "                     start_symbol_id=word2id['^'],\n",
    "                     end_symbol_id=word2id['$'],\n",
    "                     padding_symbol_id=word2id['#'])\n",
    "\n",
    "batch_size = 128\n",
    "n_epochs = 20\n",
    "learning_rate = 0.001\n",
    "dropout_keep_probability = 0.5\n",
    "max_len = 20\n",
    "\n",
    "n_step = int(len(train_set) / batch_size)\n",
    "\n",
    "### TRAINING\n",
    "\n",
    "session = tf.Session()\n",
    "session.run(tf.global_variables_initializer())\n",
    "            \n",
    "invalid_number_prediction_counts = []\n",
    "all_model_predictions = []\n",
    "all_ground_truth = []\n",
    "\n",
    "print('Start training... \\n')\n",
    "for epoch in range(n_epochs):  \n",
    "    random.shuffle(train_set)\n",
    "    random.shuffle(test_set)\n",
    "    \n",
    "    #clear_output()\n",
    "    print('Train: Epoch', epoch + 1)\n",
    "    for n_iter, (X_batch, Y_batch) in enumerate(generate_batches(train_set, batch_size=batch_size)):\n",
    "        \n",
    "        x, x_len = batch_to_ids(X_batch, word2id, max_len=max_len)\n",
    "        y, y_len = batch_to_ids(Y_batch, word2id, max_len=max_len)\n",
    "        \n",
    "        # prepare the data (X_batch and Y_batch) for training\n",
    "        # using function batch_to_ids\n",
    "        predictions, loss = model.train_on_batch(session=session,\n",
    "                                                 X=x, Y=y,\n",
    "                                                 X_seq_len=x_len,\n",
    "                                                 Y_seq_len=y_len,\n",
    "                                                 learning_rate=learning_rate,\n",
    "                                                 dropout_keep_probability=dropout_keep_probability)\n",
    "        \n",
    "        \n",
    "        if n_iter % 200 == 0:\n",
    "            print(\"Epoch: [%d/%d], step: [%d/%d], Loss: %f\" % (epoch + 1, n_epochs, n_iter + 1, n_step, loss))\n",
    "                \n",
    "    X_sent, Y_sent = next(generate_batches(test_set, batch_size=batch_size))\n",
    "    \n",
    "    X, X_sent_lens = batch_to_ids(X_sent, word2id, max_len=max_len)\n",
    "    Y, Y_sent_lens = batch_to_ids(Y_sent, word2id, max_len=max_len)\n",
    "    \n",
    "    # prepare test data (X_sent and Y_sent) for predicting \n",
    "    # quality and computing value of the loss function\n",
    "    # using function batch_to_ids\n",
    "    \n",
    "    predictions, loss = model.predict_for_batch_with_loss(session, X, X_sent_lens, Y, Y_sent_lens)\n",
    "    \n",
    "    print('\\nTest: Epoch', epoch + 1, 'Loss:', loss,)\n",
    "    for x, y, p  in list(zip(X, Y, predictions))[:3]:\n",
    "        print('X:',''.join(ids_to_sentence(x, id2word)))\n",
    "        print('Y:',''.join(ids_to_sentence(y, id2word)))\n",
    "        print('O:',''.join(ids_to_sentence(p, id2word)))\n",
    "        print('')\n",
    "\n",
    "    model_predictions = []\n",
    "    ground_truth = []\n",
    "    invalid_number_prediction_count = 0\n",
    "    \n",
    "    # For the whole test set calculate ground-truth values (as integer numbers)\n",
    "    # and prediction values (also as integers) to calculate metrics.\n",
    "    # If generated by model number is not correct (e.g. '1-1'), \n",
    "    # increase invalid_number_prediction_count and don't append this and corresponding\n",
    "    # ground-truth value to the arrays.\n",
    "    \n",
    "    for X_batch, Y_batch in generate_batches(test_set, batch_size=batch_size):\n",
    "        \n",
    "        X, X_len = batch_to_ids(X_batch, word2id, max_len=max_len)\n",
    "        Y, Y_len = batch_to_ids(Y_batch, word2id, max_len=max_len)\n",
    "        predictions = model.predict_for_batch(session, X, X_len)\n",
    "        \n",
    "        for Y_true, Y_pred in zip(Y, predictions):\n",
    "            \n",
    "            try:\n",
    "                end_token = '$'\n",
    "                Y_true, Y_pred = ''.join(ids_to_sentence(Y_true, id2word)), ''.join(ids_to_sentence(Y_pred, id2word))\n",
    "                Y_true, Y_pred = Y_true[:Y_true.find(end_token)], Y_pred[:Y_pred.find(end_token)]\n",
    "                model_predictions.append(int(Y_pred))\n",
    "                ground_truth.append(int(Y_true))\n",
    "                \n",
    "            except:\n",
    "                invalid_number_prediction_count = invalid_number_prediction_count + 1\n",
    "    \n",
    "    # Final results\n",
    "    all_model_predictions.append(model_predictions)\n",
    "    all_ground_truth.append(ground_truth)\n",
    "    invalid_number_prediction_counts.append(invalid_number_prediction_count)\n",
    "            \n",
    "print('\\n...training finished.')"
   ]
  },
  {
   "cell_type": "code",
   "execution_count": 81,
   "metadata": {},
   "outputs": [
    {
     "name": "stdout",
     "output_type": "stream",
     "text": [
      "Epoch: 1, MAE: 1200.945000, Invalid numbers: 0\n",
      "Epoch: 2, MAE: 456.727400, Invalid numbers: 0\n",
      "Epoch: 3, MAE: 274.787550, Invalid numbers: 0\n",
      "Epoch: 4, MAE: 204.952450, Invalid numbers: 0\n",
      "Epoch: 5, MAE: 170.003600, Invalid numbers: 0\n",
      "Epoch: 6, MAE: 119.626200, Invalid numbers: 0\n",
      "Epoch: 7, MAE: 66.176700, Invalid numbers: 0\n",
      "Epoch: 8, MAE: 51.811400, Invalid numbers: 0\n",
      "Epoch: 9, MAE: 41.252700, Invalid numbers: 0\n",
      "Epoch: 10, MAE: 31.152950, Invalid numbers: 0\n",
      "Epoch: 11, MAE: 26.153400, Invalid numbers: 0\n",
      "Epoch: 12, MAE: 23.693900, Invalid numbers: 0\n",
      "Epoch: 13, MAE: 25.073350, Invalid numbers: 0\n",
      "Epoch: 14, MAE: 21.156800, Invalid numbers: 0\n",
      "Epoch: 15, MAE: 22.579450, Invalid numbers: 0\n",
      "Epoch: 16, MAE: 24.580750, Invalid numbers: 0\n",
      "Epoch: 17, MAE: 18.289193, Invalid numbers: 3\n",
      "Epoch: 18, MAE: 19.286050, Invalid numbers: 0\n",
      "Epoch: 19, MAE: 27.312866, Invalid numbers: 1\n",
      "Epoch: 20, MAE: 16.848650, Invalid numbers: 0\n"
     ]
    }
   ],
   "source": [
    "### RESULTS\n",
    "for i, (gts, predictions, invalid_number_prediction_count) in enumerate(zip(all_ground_truth,\n",
    "                                                                            all_model_predictions,\n",
    "                                                                            invalid_number_prediction_counts), 1):\n",
    "    mae = mean_absolute_error(gts, predictions)\n",
    "    print(\"Epoch: %i, MAE: %f, Invalid numbers: %i\" % (i, mae, invalid_number_prediction_count))"
   ]
  }
 ],
 "metadata": {
  "kernelspec": {
   "display_name": "Python 3",
   "language": "python",
   "name": "python3"
  },
  "language_info": {
   "codemirror_mode": {
    "name": "ipython",
    "version": 3
   },
   "file_extension": ".py",
   "mimetype": "text/x-python",
   "name": "python",
   "nbconvert_exporter": "python",
   "pygments_lexer": "ipython3",
   "version": "3.6.4"
  }
 },
 "nbformat": 4,
 "nbformat_minor": 2
}
