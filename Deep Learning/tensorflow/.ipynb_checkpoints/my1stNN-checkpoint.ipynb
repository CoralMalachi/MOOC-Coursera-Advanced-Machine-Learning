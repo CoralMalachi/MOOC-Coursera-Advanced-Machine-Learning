{
 "cells": [
  {
   "cell_type": "markdown",
   "metadata": {},
   "source": [
    "# Peer-graded Assignment: my1stNN\n",
    "\n",
    "***\n",
    "\n",
    "## 1. Motivation\n",
    "\n",
    "**TensorFlow** is a numerical library that allows its user to model a machine learning problem as a computational graph. The 3 main advantages of using TensorFlow are:\n",
    "\n",
    "- More efficient than NumPy as TensorFlow uses a dedicated and optimized C++ API\n",
    "- Automatically computes the gradients that are needed to obtain the optimal weights (via chain rule of derivatives)\n",
    "- Takes advantage of parallel computing (e.g. multi-core GPUs/CPUs)\n",
    "\n",
    "We need the following parts:\n",
    "\n",
    "1. *Placeholder variables* used to change the input to the graph\n",
    "2. *Model variables* that are going to be optimized so as to make the model perform better\n",
    "3. The *model* which is a mathematical function that computes some output given an input in the placeholder and model variables\n",
    "4. A *cost measure* that can be used to guide the optimization of the variables\n",
    "5. An *optimization method* which updates the model variables\n",
    "\n",
    "One can also add a TensorFlow graph which contains various debugging statements, e.g. for logging data to tbe displayed using TensorBoard.\n",
    "\n",
    "**Goals**\n",
    "1. Code a deep (with at least 1 hidden layer) neural network in tensorflow\n",
    "2. Fit it on the train dataset, estimate quality on the test dataset\n",
    "3. Plot the train loss and test loss as a function of the training iteration number\n",
    "\n",
    "A 2-layer (one hidden, one output) NN should already have an edge over logistic regression.\n",
    "\n",
    "## 2. Dataset"
   ]
  },
  {
   "cell_type": "code",
   "execution_count": 1,
   "metadata": {},
   "outputs": [
    {
     "name": "stderr",
     "output_type": "stream",
     "text": [
      "Using TensorFlow backend.\n"
     ]
    },
    {
     "name": "stdout",
     "output_type": "stream",
     "text": [
      "(50000, 28, 28) (50000,)\n"
     ]
    },
    {
     "data": {
      "text/plain": [
       "<matplotlib.image.AxesImage at 0x1712c8c2b38>"
      ]
     },
     "execution_count": 1,
     "metadata": {},
     "output_type": "execute_result"
    },
    {
     "data": {
      "image/png": "[encoded data removed]",
      "text/plain": [
       "<matplotlib.figure.Figure at 0x1712500af98>"
      ]
     },
     "metadata": {},
     "output_type": "display_data"
    }
   ],
   "source": [
    "# Machine Learning package\n",
    "import keras\n",
    "\n",
    "# Loading dataset\n",
    "def load_dataset(flatten=False):\n",
    "    (X_train, y_train), (X_test, y_test) = keras.datasets.mnist.load_data()\n",
    "\n",
    "    # Normalize x\n",
    "    X_train = X_train.astype(float) / 255.\n",
    "    X_test = X_test.astype(float) / 255.\n",
    "\n",
    "    # We reserve the last 10000 training examples for validation\n",
    "    X_train, X_val = X_train[:-10000], X_train[-10000:]\n",
    "    y_train, y_val = y_train[:-10000], y_train[-10000:]\n",
    "\n",
    "    if flatten:\n",
    "        X_train = X_train.reshape([X_train.shape[0], -1])\n",
    "        X_val = X_val.reshape([X_val.shape[0], -1])\n",
    "        X_test = X_test.reshape([X_test.shape[0], -1])\n",
    "\n",
    "    return X_train, y_train, X_val, y_val, X_test, y_test\n",
    "\n",
    "# Check\n",
    "X_train, y_train, X_val, y_val, X_test, y_test = load_dataset()\n",
    "print(X_train.shape, y_train.shape)\n",
    "\n",
    "# Example of elements in the dataset\n",
    "import matplotlib.pyplot as plt\n",
    "%matplotlib inline\n",
    "plt.imshow(X_train[0], cmap=\"Greys\")"
   ]
  },
  {
   "cell_type": "code",
   "execution_count": 2,
   "metadata": {},
   "outputs": [
    {
     "name": "stdout",
     "output_type": "stream",
     "text": [
      "TRAINING SAMPLE\n",
      "Design matrix X:  (50000, 784)\n",
      "Output vector Y:  (50000, 10) \n",
      "\n",
      "TEST SAMPLE\n",
      "Design matrix X:  (10000, 784)\n",
      "Output vector Y:  (10000, 10)\n"
     ]
    }
   ],
   "source": [
    "import numpy as np\n",
    "\n",
    "# flatten 28*28 images to a 784 vector for each image\n",
    "num_pixels = X_train.shape[1] * X_train.shape[2]\n",
    "\n",
    "X_train = X_train.reshape(X_train.shape[0], num_pixels).astype('float32')\n",
    "X_test = X_test.reshape(X_test.shape[0], num_pixels).astype('float32')\n",
    "\n",
    "# Multiclass Classification\n",
    "y_train = np.eye(10)[y_train]\n",
    "y_test = np.eye(10)[y_test]\n",
    "\n",
    "# images are now 28x28\n",
    "# 10 different digits\n",
    "# 50k samples\n",
    "\n",
    "print(\"TRAINING SAMPLE\")\n",
    "print(\"Design matrix X: \", X_train.shape)\n",
    "print(\"Output vector Y: \", y_train.shape, \"\\n\")\n",
    "\n",
    "print(\"TEST SAMPLE\")\n",
    "print(\"Design matrix X: \", X_test.shape)\n",
    "print(\"Output vector Y: \", y_test.shape)"
   ]
  },
  {
   "cell_type": "markdown",
   "metadata": {},
   "source": [
    "## 3. Neural network parameters, placeholder and model variables"
   ]
  },
  {
   "cell_type": "code",
   "execution_count": 240,
   "metadata": {
    "collapsed": true
   },
   "outputs": [],
   "source": [
    "import tensorflow as tf\n",
    "tf.reset_default_graph()\n",
    "\n",
    "# Parameters\n",
    "alpha = 0.005\n",
    "nu = 0.001\n",
    "training_epochs = 20\n",
    "batch_size = 500\n",
    "total_batch = 50000\n",
    "\n",
    "# Layers\n",
    "hidden_layers_1 = 200\n",
    "hidden_layers_2 = 200\n",
    "features = 784        # 28x28 images (flattened here)\n",
    "n_classes = 10        # Classes: 0-9 handwritten digits\n",
    "\n",
    "# Model variables\n",
    "X = tf.placeholder(tf.float32, shape=[None, features])\n",
    "Y = tf.placeholder(tf.float32, shape=[None, n_classes])\n",
    "keep_prob = tf.placeholder(tf.float32)\n",
    "\n",
    "# Placeholder variables\n",
    "W1 = tf.get_variable(\"W1\", [features, hidden_layers_1], initializer=tf.contrib.layers.xavier_initializer())\n",
    "W2 = tf.get_variable(\"W2\", [hidden_layers_1, hidden_layers_2], initializer=tf.contrib.layers.xavier_initializer())\n",
    "W3 = tf.get_variable(\"W3\", [hidden_layers_2, n_classes], initializer=tf.contrib.layers.xavier_initializer())\n",
    "\n",
    "b1 = tf.get_variable(\"b1\", [hidden_layers_1], initializer=tf.zeros_initializer())\n",
    "b2 = tf.get_variable(\"b2\", [hidden_layers_2], initializer=tf.zeros_initializer())\n",
    "b3 = tf.get_variable(\"b3\", [n_classes], initializer=tf.zeros_initializer())"
   ]
  },
  {
   "cell_type": "markdown",
   "metadata": {},
   "source": [
    "## 4. Neural network, cost function and gradient descent optimizer"
   ]
  },
  {
   "cell_type": "code",
   "execution_count": 2,
   "metadata": {},
   "outputs": [
    {
     "ename": "NameError",
     "evalue": "name 'tf' is not defined",
     "output_type": "error",
     "traceback": [
      "\u001b[1;31m---------------------------------------------------------------------------\u001b[0m",
      "\u001b[1;31mNameError\u001b[0m                                 Traceback (most recent call last)",
      "\u001b[1;32m<ipython-input-2-3e81a914dfd8>\u001b[0m in \u001b[0;36m<module>\u001b[1;34m()\u001b[0m\n\u001b[0;32m      1\u001b[0m \u001b[1;31m# Hidden layer 1\u001b[0m\u001b[1;33m\u001b[0m\u001b[1;33m\u001b[0m\u001b[0m\n\u001b[1;32m----> 2\u001b[1;33m \u001b[0mZ1\u001b[0m \u001b[1;33m=\u001b[0m \u001b[0mtf\u001b[0m\u001b[1;33m.\u001b[0m\u001b[0mmatmul\u001b[0m\u001b[1;33m(\u001b[0m\u001b[0mX\u001b[0m\u001b[1;33m,\u001b[0m \u001b[0mW1\u001b[0m\u001b[1;33m)\u001b[0m \u001b[1;33m+\u001b[0m \u001b[0mb1\u001b[0m\u001b[1;33m\u001b[0m\u001b[0m\n\u001b[0m\u001b[0;32m      3\u001b[0m \u001b[0mA1\u001b[0m \u001b[1;33m=\u001b[0m \u001b[0mtf\u001b[0m\u001b[1;33m.\u001b[0m\u001b[0mnn\u001b[0m\u001b[1;33m.\u001b[0m\u001b[0mrelu\u001b[0m\u001b[1;33m(\u001b[0m\u001b[0mZ1\u001b[0m\u001b[1;33m)\u001b[0m\u001b[1;33m\u001b[0m\u001b[0m\n\u001b[0;32m      4\u001b[0m \u001b[0mA1\u001b[0m \u001b[1;33m=\u001b[0m \u001b[0mtf\u001b[0m\u001b[1;33m.\u001b[0m\u001b[0mnn\u001b[0m\u001b[1;33m.\u001b[0m\u001b[0mdropout\u001b[0m\u001b[1;33m(\u001b[0m\u001b[0mA1\u001b[0m\u001b[1;33m,\u001b[0m \u001b[0mkeep_prob\u001b[0m\u001b[1;33m)\u001b[0m\u001b[1;33m\u001b[0m\u001b[0m\n\u001b[0;32m      5\u001b[0m \u001b[1;33m\u001b[0m\u001b[0m\n",
      "\u001b[1;31mNameError\u001b[0m: name 'tf' is not defined"
     ]
    }
   ],
   "source": [
    "# Hidden layer 1\n",
    "Z1 = tf.matmul(X, W1) + b1\n",
    "A1 = tf.nn.relu(Z1)\n",
    "A1 = tf.nn.dropout(A1, keep_prob)\n",
    "\n",
    "# Hidden layer 2\n",
    "Z2 = tf.matmul(A1, W2) + b2\n",
    "A2 = tf.nn.relu(Z2)\n",
    "A2 = tf.nn.dropout(A2, keep_prob)\n",
    "\n",
    "# Output later\n",
    "Z3 = tf.matmul(A2, W3) + b3\n",
    "A3 = tf.nn.sigmoid(Z3)\n",
    "\n",
    "# Cost function\n",
    "cost = tf.reduce_mean(tf.nn.softmax_cross_entropy_with_logits(logits=A3, labels=Y))\n",
    "\n",
    "# Loss function using L2 Regularization\n",
    "#beta = 0.0001\n",
    "#regularizers = tf.nn.l2_loss(W1) + tf.nn.l2_loss(W2) + tf.nn.l2_loss(W3)\n",
    "#cost = tf.reduce_mean(cost + beta * regularizers)\n",
    "\n",
    "# Decay the learning rate\n",
    "global_step = tf.Variable(0, trainable=False)\n",
    "learning_rate_0 = 0.005\n",
    "alpha = tf.train.exponential_decay(learning_rate_0, global_step, 100000,\n",
    "                                   0.94, staircase=True)\n",
    "\n",
    "# Training step\n",
    "training_step = tf.train.AdamOptimizer(learning_rate=alpha).minimize(cost)"
   ]
  },
  {
   "cell_type": "markdown",
   "metadata": {},
   "source": [
    "## 5. Training the neural network"
   ]
  },
  {
   "cell_type": "code",
   "execution_count": 242,
   "metadata": {},
   "outputs": [
    {
     "data": {
      "image/png": "[encoded data removed]",
      "text/plain": [
       "<matplotlib.figure.Figure at 0x1ee359cef98>"
      ]
     },
     "metadata": {},
     "output_type": "display_data"
    },
    {
     "name": "stdout",
     "output_type": "stream",
     "text": [
      "Train accuracy: 0.98072\n",
      "Test accuracy: 0.9704\n"
     ]
    }
   ],
   "source": [
    "# Initializing the variables\n",
    "init = tf.global_variables_initializer()\n",
    "\n",
    "with tf.Session() as sess:\n",
    "    sess.run(init)\n",
    "    \n",
    "    cost_train = []\n",
    "    cost_test = []\n",
    "\n",
    "    for epoch in range(training_epochs):\n",
    "        \n",
    "        for i in range(0, 50000, batch_size):\n",
    "            x_batch = X_train[i:i+batch_size]\n",
    "            y_batch = y_train[i:i+batch_size]\n",
    "            sess.run(training_step, feed_dict={X: x_batch, Y: y_batch, keep_prob : 0.65})\n",
    "        \n",
    "        cost_train.append(sess.run(cost, {X: X_train, Y: y_train, keep_prob : 1.0}))\n",
    "        cost_test.append(sess.run(cost, {X: X_test, Y: y_test, keep_prob : 1.0}))\n",
    "        \n",
    "        predict = tf.argmax(Z3, 1)\n",
    "        correct_predict = tf.equal(predict, tf.argmax(Y,1))\n",
    "        accuracy = tf.reduce_mean(tf.cast(correct_predict, \"float\"))\n",
    "        print(\"Cost (\" + str(epoch+1) + \" epochs): \" + str(cost_train[-1]))\n",
    "        print(\"Train accuracy (\" + str(epoch+1) + \" epochs): \" + str(accuracy.eval({X: X_train, Y: y_train, keep_prob : 1.0})))\n",
    "        print(\"Test accuracy (\" + str(epoch+1) + \" epochs): \" + str(accuracy.eval({X: X_test, Y: y_test, keep_prob : 1.0})))\n",
    "        print(\"\")\n",
    "    \n",
    "    # Plot results\n",
    "    plt.figure(figsize=(7,5))\n",
    "    plt.plot(range(len(cost_train)), cost_train, color=\"blue\", lw=1.5, label=\"Training set\")\n",
    "    plt.plot(range(len(cost_test)), cost_test, color=\"red\", lw=1.5, label=\"Testing set\")\n",
    "    plt.xlabel(\"Training epochs\")\n",
    "    plt.ylabel(\"Cost\")\n",
    "    plt.grid(True)\n",
    "    plt.show()\n",
    "\n",
    "    # Testing accuracy\n",
    "    predict = tf.argmax(Z3, 1)\n",
    "    correct_predict = tf.equal(predict, tf.argmax(Y,1))\n",
    "    accuracy = tf.reduce_mean(tf.cast(correct_predict, \"float\"))\n",
    "    print(\"Train accuracy:\", accuracy.eval({X: X_train, Y: y_train, keep_prob : 1.0}))\n",
    "    print(\"Test accuracy:\", accuracy.eval({X: X_test, Y: y_test, keep_prob : 1.0}))"
   ]
  }
 ],
 "metadata": {
  "kernelspec": {
   "display_name": "Python 3",
   "language": "python",
   "name": "python3"
  },
  "language_info": {
   "codemirror_mode": {
    "name": "ipython",
    "version": 3
   },
   "file_extension": ".py",
   "mimetype": "text/x-python",
   "name": "python",
   "nbconvert_exporter": "python",
   "pygments_lexer": "ipython3",
   "version": "3.6.3"
  }
 },
 "nbformat": 4,
 "nbformat_minor": 2
}
